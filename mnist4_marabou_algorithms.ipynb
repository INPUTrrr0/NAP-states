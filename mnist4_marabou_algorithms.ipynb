{
  "cells": [
    {
      "cell_type": "code",
      "execution_count": 2,
      "metadata": {
        "colab": {
          "base_uri": "https://localhost:8080/"
        },
        "id": "z_X033oPFf-0",
        "outputId": "41e28ee8-797c-415a-8581-aa25099ed1c2"
      },
      "outputs": [
        {
          "output_type": "stream",
          "name": "stdout",
          "text": [
            "Requirement already satisfied: onnx in /usr/local/lib/python3.10/dist-packages (1.15.0)\n",
            "Requirement already satisfied: numpy in /usr/local/lib/python3.10/dist-packages (from onnx) (1.25.2)\n",
            "Requirement already satisfied: protobuf>=3.20.2 in /usr/local/lib/python3.10/dist-packages (from onnx) (3.20.3)\n",
            "Requirement already satisfied: onnxruntime in /usr/local/lib/python3.10/dist-packages (1.17.1)\n",
            "Requirement already satisfied: coloredlogs in /usr/local/lib/python3.10/dist-packages (from onnxruntime) (15.0.1)\n",
            "Requirement already satisfied: flatbuffers in /usr/local/lib/python3.10/dist-packages (from onnxruntime) (23.5.26)\n",
            "Requirement already satisfied: numpy>=1.21.6 in /usr/local/lib/python3.10/dist-packages (from onnxruntime) (1.25.2)\n",
            "Requirement already satisfied: packaging in /usr/local/lib/python3.10/dist-packages (from onnxruntime) (23.2)\n",
            "Requirement already satisfied: protobuf in /usr/local/lib/python3.10/dist-packages (from onnxruntime) (3.20.3)\n",
            "Requirement already satisfied: sympy in /usr/local/lib/python3.10/dist-packages (from onnxruntime) (1.12)\n",
            "Requirement already satisfied: humanfriendly>=9.1 in /usr/local/lib/python3.10/dist-packages (from coloredlogs->onnxruntime) (10.0)\n",
            "Requirement already satisfied: mpmath>=0.19 in /usr/local/lib/python3.10/dist-packages (from sympy->onnxruntime) (1.3.0)\n",
            "Requirement already satisfied: onnx2pytorch in /usr/local/lib/python3.10/dist-packages (0.4.1)\n",
            "Requirement already satisfied: torch>=1.4.0 in /usr/local/lib/python3.10/dist-packages (from onnx2pytorch) (2.1.0+cu121)\n",
            "Requirement already satisfied: onnx>=1.6.0 in /usr/local/lib/python3.10/dist-packages (from onnx2pytorch) (1.15.0)\n",
            "Requirement already satisfied: torchvision>=0.9.0 in /usr/local/lib/python3.10/dist-packages (from onnx2pytorch) (0.16.0+cu121)\n",
            "Requirement already satisfied: numpy in /usr/local/lib/python3.10/dist-packages (from onnx>=1.6.0->onnx2pytorch) (1.25.2)\n",
            "Requirement already satisfied: protobuf>=3.20.2 in /usr/local/lib/python3.10/dist-packages (from onnx>=1.6.0->onnx2pytorch) (3.20.3)\n",
            "Requirement already satisfied: filelock in /usr/local/lib/python3.10/dist-packages (from torch>=1.4.0->onnx2pytorch) (3.13.1)\n",
            "Requirement already satisfied: typing-extensions in /usr/local/lib/python3.10/dist-packages (from torch>=1.4.0->onnx2pytorch) (4.10.0)\n",
            "Requirement already satisfied: sympy in /usr/local/lib/python3.10/dist-packages (from torch>=1.4.0->onnx2pytorch) (1.12)\n",
            "Requirement already satisfied: networkx in /usr/local/lib/python3.10/dist-packages (from torch>=1.4.0->onnx2pytorch) (3.2.1)\n",
            "Requirement already satisfied: jinja2 in /usr/local/lib/python3.10/dist-packages (from torch>=1.4.0->onnx2pytorch) (3.1.3)\n",
            "Requirement already satisfied: fsspec in /usr/local/lib/python3.10/dist-packages (from torch>=1.4.0->onnx2pytorch) (2023.6.0)\n",
            "Requirement already satisfied: triton==2.1.0 in /usr/local/lib/python3.10/dist-packages (from torch>=1.4.0->onnx2pytorch) (2.1.0)\n",
            "Requirement already satisfied: requests in /usr/local/lib/python3.10/dist-packages (from torchvision>=0.9.0->onnx2pytorch) (2.31.0)\n",
            "Requirement already satisfied: pillow!=8.3.*,>=5.3.0 in /usr/local/lib/python3.10/dist-packages (from torchvision>=0.9.0->onnx2pytorch) (9.4.0)\n",
            "Requirement already satisfied: MarkupSafe>=2.0 in /usr/local/lib/python3.10/dist-packages (from jinja2->torch>=1.4.0->onnx2pytorch) (2.1.5)\n",
            "Requirement already satisfied: charset-normalizer<4,>=2 in /usr/local/lib/python3.10/dist-packages (from requests->torchvision>=0.9.0->onnx2pytorch) (3.3.2)\n",
            "Requirement already satisfied: idna<4,>=2.5 in /usr/local/lib/python3.10/dist-packages (from requests->torchvision>=0.9.0->onnx2pytorch) (3.6)\n",
            "Requirement already satisfied: urllib3<3,>=1.21.1 in /usr/local/lib/python3.10/dist-packages (from requests->torchvision>=0.9.0->onnx2pytorch) (2.0.7)\n",
            "Requirement already satisfied: certifi>=2017.4.17 in /usr/local/lib/python3.10/dist-packages (from requests->torchvision>=0.9.0->onnx2pytorch) (2024.2.2)\n",
            "Requirement already satisfied: mpmath>=0.19 in /usr/local/lib/python3.10/dist-packages (from sympy->torch>=1.4.0->onnx2pytorch) (1.3.0)\n",
            "Requirement already satisfied: maraboupy in /usr/local/lib/python3.10/dist-packages (1.0.0)\n"
          ]
        }
      ],
      "source": [
        "!pip install onnx\n",
        "!pip install onnxruntime\n",
        "!pip install onnx2pytorch\n",
        "!pip install maraboupy\n",
        "#!pip install tensorflow[and-cuda]==2.13.0"
      ]
    },
    {
      "cell_type": "code",
      "execution_count": null,
      "metadata": {
        "id": "_YILcoWdCMO1"
      },
      "outputs": [],
      "source": [
        "# import os\n",
        "# os.kill(os.getpid(), 9)\n"
      ]
    },
    {
      "cell_type": "code",
      "source": [
        "from google.colab import drive\n",
        "drive.mount('/content/drive')\n",
        "import onnx\n",
        "from onnx2pytorch import ConvertModel\n",
        "folder_path = '/content/drive/My Drive/oopsla_nap'\n",
        "mnist_path = folder_path + '/mnist-net_256x4.onnx'  # Adjust file extension if needed\n",
        "PATTERN_PATH = folder_path + '/relu_states_mnist'  # Adjust file extension if needed\n",
        "# iris_onnx_path = 'iris_model_60.onnx'  # Adjust file extension if needed\n",
        "# PATTERN_PATH = 'relu_states_allen.txt'  # Adjust file extension if needed\n",
        "total_label=10\n",
        "relu_per_layer=256\n",
        "total_layer=4"
      ],
      "metadata": {
        "id": "1aUNRfJ8S6CG",
        "colab": {
          "base_uri": "https://localhost:8080/"
        },
        "outputId": "60fc7a6c-5368-46d5-d267-9cdf17c8bf33"
      },
      "execution_count": 3,
      "outputs": [
        {
          "output_type": "stream",
          "name": "stdout",
          "text": [
            "Drive already mounted at /content/drive; to attempt to forcibly remount, call drive.mount(\"/content/drive\", force_remount=True).\n"
          ]
        }
      ]
    },
    {
      "cell_type": "code",
      "execution_count": 4,
      "metadata": {
        "id": "RZmiALnbf9Hd",
        "outputId": "55c21ffa-f817-42ac-db5b-bec0655aa71c",
        "colab": {
          "base_uri": "https://localhost:8080/"
        }
      },
      "outputs": [
        {
          "output_type": "stream",
          "name": "stderr",
          "text": [
            "WARNING:tensorflow:From /usr/local/lib/python3.10/dist-packages/tensorflow/python/compat/v2_compat.py:108: disable_resource_variables (from tensorflow.python.ops.variable_scope) is deprecated and will be removed in a future version.\n",
            "Instructions for updating:\n",
            "non-resource variables are not supported in the long term\n"
          ]
        }
      ],
      "source": [
        "from maraboupy import Marabou, MarabouCore, MarabouUtils\n",
        "import json\n",
        "from typing import Tuple, List\n",
        "import logging\n",
        "import pandas\n",
        "\n",
        "def init_network():\n",
        "  network = Marabou.read_onnx(mnist_path)\n",
        "  return network\n",
        "\n",
        "EPSILON = 0.5\n",
        "MAX_TIME = 30 #in seconds\n",
        "M_OPTIONS: MarabouCore.Options = Marabou.createOptions(verbosity=1, numWorkers=1, timeoutInSeconds=MAX_TIME)\n",
        "\n",
        "def convert_keys_to_int(x):\n",
        "    if isinstance(x, dict):\n",
        "        return {int(k) if k.isdigit() else k: convert_keys_to_int(v) for k, v in x.items()}\n",
        "    return x\n",
        "\n",
        "def parse_raw_idx(raw_idx: int) -> Tuple[int, int, int]:\n",
        "    n_relus = relu_per_layer\n",
        "    offset = relu_per_layer*total_layer+total_label\n",
        "    layer = raw_idx // n_relus\n",
        "    idx = raw_idx % n_relus\n",
        "    marabou_idx = 2*n_relus*layer + idx + offset\n",
        "    return layer, idx, marabou_idx\n",
        "\n",
        "with open(PATTERN_PATH, \"r\") as f:\n",
        "  STABLE_PATTERNS = json.load(f)\n",
        "  STABLE_PATTERNS=convert_keys_to_int(STABLE_PATTERNS)\n",
        "loc = 0.5\n",
        "radus = 0.5\n",
        "non_restricted_dim = []"
      ]
    },
    {
      "cell_type": "code",
      "source": [
        "import numpy as np\n",
        "def add_relu_constraints(network: Marabou.MarabouNetworkNNet, label_states, a=None)->Marabou.MarabouNetworkNNet:\n",
        "    \"\"\"\n",
        "    Add stable relus constraints to the Marabou network\n",
        "    \"\"\"\n",
        "    if a:\n",
        "      for neuron,values in label_states.items(): #everything\n",
        "        if a[neuron]==1: #include this relu\n",
        "          layer, idx, marabou_idx = parse_raw_idx(neuron)\n",
        "          #print(f'{neuron}: {values}')\n",
        "          if values.count(0) > len(values)*0.5: #len(X_train)*0.5:  len(values)\n",
        "              constraint = MarabouUtils.Equation(MarabouCore.Equation.LE)\n",
        "              constraint.addAddend(1, marabou_idx)\n",
        "              constraint.setScalar(-0.001)\n",
        "          else:\n",
        "              constraint = MarabouUtils.Equation(MarabouCore.Equation.GE)\n",
        "              constraint.addAddend(1, marabou_idx)\n",
        "              constraint.setScalar(0.001)\n",
        "          network.addEquation(constraint)\n",
        "\n",
        "    else:\n",
        "      for neuron,values in label_states.items():\n",
        "          layer, idx, marabou_idx = parse_raw_idx(neuron)\n",
        "          #print(f'{neuron}: {values}')\n",
        "          if values.count(0) > len(values)*0.5: #len(X_train)*0.5:  len(values)\n",
        "              constraint = MarabouUtils.Equation(MarabouCore.Equation.LE)\n",
        "              constraint.addAddend(1, marabou_idx)\n",
        "              constraint.setScalar(-0.001)\n",
        "          else:\n",
        "              constraint = MarabouUtils.Equation(MarabouCore.Equation.GE)\n",
        "              constraint.addAddend(1, marabou_idx)\n",
        "              constraint.setScalar(0.001)\n",
        "          network.addEquation(constraint)\n",
        "        # import pdb;pdb.set_trace()\n",
        "\n",
        "    return network\n",
        "\n",
        "\n",
        "\n",
        "def check_pattern(label_states, label: int, other_label: int, a=None)->Tuple[str, int]: #relu_check_list: List[int], relu_val: List[int]\n",
        "    \"\"\"\n",
        "    In ACAS, the prediction is the label with smallest value.\n",
        "    So we check that label - other_label < 0 forall input\n",
        "    by finding assignments for label - other_label >=0\n",
        "    \"\"\"\n",
        "    print(\"--------CHECK PATTERN: output_{} is always less than output_{} ? --------\".format(label, other_label))\n",
        "    network = init_network()\n",
        "    network = add_relu_constraints(network, label_states,a) #previously commented out??\n",
        "    offset = network.outputVars[0][0][0]\n",
        "    for i in range(relu_per_layer):\n",
        "      network.setLowerBound(i, 0)\n",
        "      network.setUpperBound(i, 1)\n",
        "    #add output constraint\n",
        "    constraint = MarabouUtils.Equation(MarabouCore.Equation.GE)\n",
        "    constraint.addAddend(1, other_label+offset)\n",
        "    constraint.addAddend(-1, label+offset)\n",
        "    constraint.setScalar(0.001)\n",
        "    network.addEquation(constraint)\n",
        "\n",
        "\n",
        "    #add additional bounds here\n",
        "    exit_code: str\n",
        "    #import pdb;pdb.set_trace()\n",
        "    try:\n",
        "      exit_code, vals, stats = network.solve(options=M_OPTIONS)\n",
        "    except Exception as e:\n",
        "      print(f\"exception {e}\")\n",
        "      exit_code = \"error\"\n",
        "      running_time=-1\n",
        "\n",
        "    running_time:int = stats.getTotalTimeInMicro()\n",
        "\n",
        "    return exit_code, running_time\n",
        "\n",
        "def main():\n",
        "    res = [[-1.]*total_label for i in range(total_label)]\n",
        "    # print(res)\n",
        "    for label in range(total_label):\n",
        "        print(f\"For label {label}, check if its stable RELU pattern guarantees the output\")\n",
        "        for other_label in range(total_label):#range(10):\n",
        "            if other_label == int(label):\n",
        "                continue\n",
        "            # relu_check_list = STABLE_PATTERNS[label][\"stable_idx\"]\n",
        "            # relu_val = STABLE_PATTERNS[label][\"val\"]\n",
        "            exit_code, running_time = check_pattern(STABLE_PATTERNS[label], label=int(label), other_label = other_label)\n",
        "            if exit_code==\"sat\":\n",
        "                res[int(label)][other_label] = \"SAT:{}\".format(running_time/10**6)\n",
        "                break\n",
        "            elif exit_code==\"unsat\":\n",
        "                res[int(label)][other_label] = \"UNS:{}\".format(running_time/10**6)\n",
        "\n",
        "            else:\n",
        "                res[int(label)][other_label] = exit_code\n",
        "\n",
        "    res = pandas.DataFrame(res)\n",
        "    print(res)\n",
        "\n",
        "#main()\n",
        "\n",
        "from math import e\n",
        "#a=[0,1,0,1,1,…] = some binary nap set\n",
        "#theorem based on s: p(F(a) = 0) ~= (d/(d+1))^d = e^(-1) as d -> inf.\n",
        "#want to optimize: p(F(a) = 0) ~= e^(−1) ~= t, gradient descend on alpha.\n",
        "#Intuition: alpha高, contains 更多 relus, p(F(a))更高. 所以F(a)是1的时候，descend theta, alpha变小\n",
        "\n",
        "all_relus= relu_per_layer*total_layer  # |J|\n",
        "n=10 # num samples\n",
        "theta=1\n",
        "step_size=0.1\n",
        "target_prob=e**(-1)\n",
        "label=0\n",
        "\n",
        "def get_alpha(theta):\n",
        "  return (1+e**(-theta))**(-1)\n",
        "\n",
        "def F(a):\n",
        "  exit_code=\"error\"\n",
        "  for other_label in range(total_label):\n",
        "    if other_label == int(label):\n",
        "      continue\n",
        "    try:\n",
        "      exit_code, running_time = check_pattern(STABLE_PATTERNS[label],\n",
        "                                            label=int(label), other_label = other_label, a=a)\n",
        "    except Exception as e:\n",
        "      print(f\"exception {e}\")\n",
        "    if exit_code==\"sat\":\n",
        "      return \"sat\"\n",
        "  return exit_code #0 means robust, good!\n",
        "\n",
        "\n",
        "def sample(alpha, a_L, a_U):\n",
        "  a=a_L.copy()\n",
        "  for j in range(len(a_U)):\n",
        "    if a_U[j]==1 and a_L[j]==0:\n",
        "      a[j]= np.random.choice([0, 1], p=[1-alpha, alpha])#.reshape(n,) #turn on with probability alpha\n",
        "  return a\n",
        "\n",
        "def StatRefine(a_L,theta):\n",
        "  print(f\"alpha: {get_alpha(theta)}\")\n",
        "  if F(a_L)==\"unsat\": #or current set(a_L)size太大了及时止损 but adjust alpha now, no need to care for s. In practice, s is unknown, so we seek a mechanism for setting α without this knowledge\n",
        "    return a_L\n",
        "  examples=[] #should alpha be updated inside or outside the loop?\n",
        "  alpha=get_alpha(theta)\n",
        "  for i in range(n): # generate example\n",
        "    larger_set=[1 for i in range(all_relus)]\n",
        "    a_i= sample(alpha, a_L, larger_set)\n",
        "    if F(a_i) == \"unsat\":\n",
        "       F_a_i = 0\n",
        "    else:\n",
        "       F_a_i = 1\n",
        "    theta=theta-step_size*(1-F_a_i-target_prob) #If |marabou(a_i)=unsat| is large, decrease alpha (gradient descend??)\n",
        "    examples.append((a_i,F_a_i))\n",
        "\n",
        "  j_count=[0 for i in range(all_relus)]\n",
        "  for j in range(all_relus):\n",
        "    if a_L[j]==0:\n",
        "      for (a_i, F_a_i) in examples:\n",
        "        if a_i[j]==1 and F_a_i==0:\n",
        "          j_count[j]+=1\n",
        "\n",
        "  j_max=np.array(j_count).argmax()\n",
        "  a_L[j_max]=1\n",
        "  return StatRefine(a_L,theta)\n",
        "\n",
        "#run StatRefine\n",
        "a=[0 for i in range(all_relus)]\n",
        "#StatRefine(a,theta)"
      ],
      "metadata": {
        "id": "YAixkQqXlJ8g"
      },
      "execution_count": 5,
      "outputs": []
    },
    {
      "cell_type": "code",
      "source": [
        "exit_code, running_time = check_pattern(STABLE_PATTERNS[label],\n",
        "                                            label=int(label), other_label = 1, a=a)\n",
        "exit_code, running_time"
      ],
      "metadata": {
        "id": "sdBdnddXhb_6",
        "outputId": "2a29be3d-977e-4ff0-a630-73ec02da6548",
        "colab": {
          "base_uri": "https://localhost:8080/"
        }
      },
      "execution_count": null,
      "outputs": [
        {
          "output_type": "stream",
          "name": "stdout",
          "text": [
            "--------CHECK PATTERN: output_1 is always less than output_1 ? --------\n"
          ]
        }
      ]
    },
    {
      "cell_type": "code",
      "source": [
        "main()\n",
        "#5 minutes, result:\n",
        "# 0          -1.0   UNS:0.55339  UNS:0.547063  UNS:0.547354  UNS:0.530694\n",
        "# 1  UNS:0.550329          -1.0  UNS:0.544594   UNS:0.55198  UNS:0.547392\n",
        "# 2   UNS:0.57887  UNS:0.543284          -1.0  UNS:0.530741  UNS:0.533878\n",
        "# 3   UNS:0.54331  UNS:0.545656  UNS:0.534651          -1.0  UNS:0.544593\n",
        "# 4  UNS:0.533898  UNS:0.548423  UNS:0.579117  UNS:0.558409          -1.0\n",
        "# 5  UNS:0.577109  UNS:0.554961  UNS:0.551018  UNS:0.576155  UNS:0.529971\n",
        "# 6  UNS:0.530694  UNS:0.530254  UNS:0.535762  UNS:0.545249  UNS:0.532279\n",
        "# 7  UNS:0.582866  UNS:0.539159  UNS:0.533944  UNS:0.546238  UNS:0.533002\n",
        "# 8  UNS:0.550895  UNS:0.532209  UNS:0.547484  UNS:0.555233  UNS:0.539933\n",
        "# 9  UNS:0.556613   UNS:0.53874  UNS:0.545473  UNS:0.547506  UNS:0.540451\n",
        "\n",
        "#               5             6             7             8             9\n",
        "# 0  UNS:0.577397  UNS:0.574471   UNS:0.54542  UNS:0.524036  UNS:0.552693\n",
        "# 1  UNS:0.531443  UNS:0.537679  UNS:0.532796   UNS:0.55102  UNS:0.538555\n",
        "# 2  UNS:0.549692   UNS:0.53429  UNS:0.533821  UNS:0.560886   UNS:0.53704\n",
        "# 3    UNS:0.5429  UNS:0.549686  UNS:0.558239  UNS:0.549381  UNS:0.531053\n",
        "# 4  UNS:0.547683  UNS:0.561305  UNS:0.536806  UNS:0.535255  UNS:0.545914\n",
        "# 5          -1.0  UNS:0.529368  UNS:0.537441  UNS:0.538135  UNS:0.552261\n",
        "# 6  UNS:0.535633          -1.0  UNS:0.555589  UNS:0.535133  UNS:0.537443\n",
        "# 7  UNS:0.536876  UNS:0.554744          -1.0  UNS:0.541726  UNS:0.537309\n",
        "# 8  UNS:0.552449  UNS:0.538056  UNS:0.530063          -1.0  UNS:0.539842\n",
        "# 9  UNS:0.554077   UNS:0.54361  UNS:0.540119  UNS:0.548168          -1.0"
      ],
      "metadata": {
        "id": "_b4idltrdw9T"
      },
      "execution_count": null,
      "outputs": []
    },
    {
      "cell_type": "code",
      "source": [
        "theta=1\n",
        "label=1\n",
        "a=[0 for i in range(all_relus)]\n",
        "final_a=StatRefine(a,theta)\n",
        "print(f\"valid relu for label: {label} = {final_a.count(1)}\") #varies from 1 to 7??"
      ],
      "metadata": {
        "id": "FeGUo014txE6",
        "colab": {
          "base_uri": "https://localhost:8080/",
          "height": 490
        },
        "outputId": "98dba352-85c2-408d-87a8-cf0f35b8475f"
      },
      "execution_count": 63,
      "outputs": [
        {
          "output_type": "stream",
          "name": "stdout",
          "text": [
            "alpha: 0.7310585786300049\n",
            "--------CHECK PATTERN: output_1 is always less than output_0 ? --------\n",
            "ERROR\n",
            "--------CHECK PATTERN: output_1 is always less than output_2 ? --------\n",
            "ERROR\n",
            "--------CHECK PATTERN: output_1 is always less than output_3 ? --------\n",
            "ERROR\n",
            "--------CHECK PATTERN: output_1 is always less than output_4 ? --------\n"
          ]
        },
        {
          "output_type": "error",
          "ename": "KeyboardInterrupt",
          "evalue": "",
          "traceback": [
            "\u001b[0;31m---------------------------------------------------------------------------\u001b[0m",
            "\u001b[0;31mKeyboardInterrupt\u001b[0m                         Traceback (most recent call last)",
            "\u001b[0;32m<ipython-input-63-2303d8130524>\u001b[0m in \u001b[0;36m<cell line: 5>\u001b[0;34m()\u001b[0m\n\u001b[1;32m      3\u001b[0m \u001b[0mother_label\u001b[0m\u001b[0;34m=\u001b[0m\u001b[0;36m2\u001b[0m\u001b[0;34m\u001b[0m\u001b[0;34m\u001b[0m\u001b[0m\n\u001b[1;32m      4\u001b[0m \u001b[0ma\u001b[0m\u001b[0;34m=\u001b[0m\u001b[0;34m[\u001b[0m\u001b[0;36m0\u001b[0m \u001b[0;32mfor\u001b[0m \u001b[0mi\u001b[0m \u001b[0;32min\u001b[0m \u001b[0mrange\u001b[0m\u001b[0;34m(\u001b[0m\u001b[0mall_relus\u001b[0m\u001b[0;34m)\u001b[0m\u001b[0;34m]\u001b[0m\u001b[0;34m\u001b[0m\u001b[0;34m\u001b[0m\u001b[0m\n\u001b[0;32m----> 5\u001b[0;31m \u001b[0mfinal_a\u001b[0m\u001b[0;34m=\u001b[0m\u001b[0mStatRefine\u001b[0m\u001b[0;34m(\u001b[0m\u001b[0ma\u001b[0m\u001b[0;34m,\u001b[0m\u001b[0mtheta\u001b[0m\u001b[0;34m)\u001b[0m\u001b[0;34m\u001b[0m\u001b[0;34m\u001b[0m\u001b[0m\n\u001b[0m\u001b[1;32m      6\u001b[0m \u001b[0mprint\u001b[0m\u001b[0;34m(\u001b[0m\u001b[0;34mf\"valid relu for label: {label} and other label: {other_label} = {final_a.count(1)}\"\u001b[0m\u001b[0;34m)\u001b[0m \u001b[0;31m#varies from 1 to 7??\u001b[0m\u001b[0;34m\u001b[0m\u001b[0;34m\u001b[0m\u001b[0m\n",
            "\u001b[0;32m<ipython-input-62-e5b9f2b91da0>\u001b[0m in \u001b[0;36mStatRefine\u001b[0;34m(a_L, theta)\u001b[0m\n\u001b[1;32m    138\u001b[0m \u001b[0;32mdef\u001b[0m \u001b[0mStatRefine\u001b[0m\u001b[0;34m(\u001b[0m\u001b[0ma_L\u001b[0m\u001b[0;34m,\u001b[0m\u001b[0mtheta\u001b[0m\u001b[0;34m)\u001b[0m\u001b[0;34m:\u001b[0m\u001b[0;34m\u001b[0m\u001b[0;34m\u001b[0m\u001b[0m\n\u001b[1;32m    139\u001b[0m   \u001b[0mprint\u001b[0m\u001b[0;34m(\u001b[0m\u001b[0;34mf\"alpha: {get_alpha(theta)}\"\u001b[0m\u001b[0;34m)\u001b[0m\u001b[0;34m\u001b[0m\u001b[0;34m\u001b[0m\u001b[0m\n\u001b[0;32m--> 140\u001b[0;31m   \u001b[0;32mif\u001b[0m \u001b[0mF\u001b[0m\u001b[0;34m(\u001b[0m\u001b[0ma_L\u001b[0m\u001b[0;34m)\u001b[0m\u001b[0;34m==\u001b[0m\u001b[0;34m\"unsat\"\u001b[0m\u001b[0;34m:\u001b[0m \u001b[0;31m#or current set(a_L)size太大了及时止损 but adjust alpha now, no need to care for s. In practice, s is unknown, so we seek a mechanism for setting α without this knowledge\u001b[0m\u001b[0;34m\u001b[0m\u001b[0;34m\u001b[0m\u001b[0m\n\u001b[0m\u001b[1;32m    141\u001b[0m     \u001b[0;32mreturn\u001b[0m \u001b[0ma_L\u001b[0m\u001b[0;34m\u001b[0m\u001b[0;34m\u001b[0m\u001b[0m\n\u001b[1;32m    142\u001b[0m   \u001b[0mexamples\u001b[0m\u001b[0;34m=\u001b[0m\u001b[0;34m[\u001b[0m\u001b[0;34m]\u001b[0m \u001b[0;31m#should alpha be updated inside or outside the loop?\u001b[0m\u001b[0;34m\u001b[0m\u001b[0;34m\u001b[0m\u001b[0m\n",
            "\u001b[0;32m<ipython-input-62-e5b9f2b91da0>\u001b[0m in \u001b[0;36mF\u001b[0;34m(a)\u001b[0m\n\u001b[1;32m    120\u001b[0m       \u001b[0;32mcontinue\u001b[0m\u001b[0;34m\u001b[0m\u001b[0;34m\u001b[0m\u001b[0m\n\u001b[1;32m    121\u001b[0m     \u001b[0;32mtry\u001b[0m\u001b[0;34m:\u001b[0m\u001b[0;34m\u001b[0m\u001b[0;34m\u001b[0m\u001b[0m\n\u001b[0;32m--> 122\u001b[0;31m       exit_code, running_time = check_pattern(STABLE_PATTERNS[label],\n\u001b[0m\u001b[1;32m    123\u001b[0m                                             label=int(label), other_label = other_label, a=a)\n\u001b[1;32m    124\u001b[0m     \u001b[0;32mexcept\u001b[0m \u001b[0mException\u001b[0m \u001b[0;32mas\u001b[0m \u001b[0me\u001b[0m\u001b[0;34m:\u001b[0m\u001b[0;34m\u001b[0m\u001b[0;34m\u001b[0m\u001b[0m\n",
            "\u001b[0;32m<ipython-input-62-e5b9f2b91da0>\u001b[0m in \u001b[0;36mcheck_pattern\u001b[0;34m(label_states, label, other_label, a)\u001b[0m\n\u001b[1;32m     45\u001b[0m     \"\"\"\n\u001b[1;32m     46\u001b[0m     \u001b[0mprint\u001b[0m\u001b[0;34m(\u001b[0m\u001b[0;34m\"--------CHECK PATTERN: output_{} is always less than output_{} ? --------\"\u001b[0m\u001b[0;34m.\u001b[0m\u001b[0mformat\u001b[0m\u001b[0;34m(\u001b[0m\u001b[0mlabel\u001b[0m\u001b[0;34m,\u001b[0m \u001b[0mother_label\u001b[0m\u001b[0;34m)\u001b[0m\u001b[0;34m)\u001b[0m\u001b[0;34m\u001b[0m\u001b[0;34m\u001b[0m\u001b[0m\n\u001b[0;32m---> 47\u001b[0;31m     \u001b[0mnetwork\u001b[0m \u001b[0;34m=\u001b[0m \u001b[0minit_network\u001b[0m\u001b[0;34m(\u001b[0m\u001b[0;34m)\u001b[0m\u001b[0;34m\u001b[0m\u001b[0;34m\u001b[0m\u001b[0m\n\u001b[0m\u001b[1;32m     48\u001b[0m     \u001b[0mnetwork\u001b[0m \u001b[0;34m=\u001b[0m \u001b[0madd_relu_constraints\u001b[0m\u001b[0;34m(\u001b[0m\u001b[0mnetwork\u001b[0m\u001b[0;34m,\u001b[0m \u001b[0mlabel_states\u001b[0m\u001b[0;34m,\u001b[0m\u001b[0ma\u001b[0m\u001b[0;34m)\u001b[0m \u001b[0;31m#previously commented out??\u001b[0m\u001b[0;34m\u001b[0m\u001b[0;34m\u001b[0m\u001b[0m\n\u001b[1;32m     49\u001b[0m     \u001b[0moffset\u001b[0m \u001b[0;34m=\u001b[0m \u001b[0mnetwork\u001b[0m\u001b[0;34m.\u001b[0m\u001b[0moutputVars\u001b[0m\u001b[0;34m[\u001b[0m\u001b[0;36m0\u001b[0m\u001b[0;34m]\u001b[0m\u001b[0;34m[\u001b[0m\u001b[0;36m0\u001b[0m\u001b[0;34m]\u001b[0m\u001b[0;34m[\u001b[0m\u001b[0;36m0\u001b[0m\u001b[0;34m]\u001b[0m\u001b[0;34m\u001b[0m\u001b[0;34m\u001b[0m\u001b[0m\n",
            "\u001b[0;32m<ipython-input-57-fa32032d9ee5>\u001b[0m in \u001b[0;36minit_network\u001b[0;34m()\u001b[0m\n\u001b[1;32m      6\u001b[0m \u001b[0;34m\u001b[0m\u001b[0m\n\u001b[1;32m      7\u001b[0m \u001b[0;32mdef\u001b[0m \u001b[0minit_network\u001b[0m\u001b[0;34m(\u001b[0m\u001b[0;34m)\u001b[0m\u001b[0;34m:\u001b[0m\u001b[0;34m\u001b[0m\u001b[0;34m\u001b[0m\u001b[0m\n\u001b[0;32m----> 8\u001b[0;31m   \u001b[0mnetwork\u001b[0m \u001b[0;34m=\u001b[0m \u001b[0mMarabou\u001b[0m\u001b[0;34m.\u001b[0m\u001b[0mread_onnx\u001b[0m\u001b[0;34m(\u001b[0m\u001b[0mmnist_path\u001b[0m\u001b[0;34m)\u001b[0m\u001b[0;34m\u001b[0m\u001b[0;34m\u001b[0m\u001b[0m\n\u001b[0m\u001b[1;32m      9\u001b[0m   \u001b[0;32mreturn\u001b[0m \u001b[0mnetwork\u001b[0m\u001b[0;34m\u001b[0m\u001b[0;34m\u001b[0m\u001b[0m\n\u001b[1;32m     10\u001b[0m \u001b[0;34m\u001b[0m\u001b[0m\n",
            "\u001b[0;32m/usr/local/lib/python3.10/dist-packages/maraboupy/Marabou.py\u001b[0m in \u001b[0;36mread_onnx\u001b[0;34m(filename, inputNames, outputNames, reindexOutputVars)\u001b[0m\n\u001b[1;32m     73\u001b[0m         \u001b[0;34m:\u001b[0m\u001b[0;32mclass\u001b[0m\u001b[0;34m:\u001b[0m\u001b[0;31m`\u001b[0m\u001b[0;34m~\u001b[0m\u001b[0mmaraboupy\u001b[0m\u001b[0;34m.\u001b[0m\u001b[0mMarabouNetworkONNX\u001b[0m\u001b[0;34m.\u001b[0m\u001b[0mMarabouNetworkONNX\u001b[0m\u001b[0;31m`\u001b[0m\u001b[0;34m\u001b[0m\u001b[0;34m\u001b[0m\u001b[0m\n\u001b[1;32m     74\u001b[0m     \"\"\"\n\u001b[0;32m---> 75\u001b[0;31m     \u001b[0;32mreturn\u001b[0m \u001b[0mMarabouNetworkONNX\u001b[0m\u001b[0;34m(\u001b[0m\u001b[0mfilename\u001b[0m\u001b[0;34m,\u001b[0m \u001b[0minputNames\u001b[0m\u001b[0;34m,\u001b[0m \u001b[0moutputNames\u001b[0m\u001b[0;34m,\u001b[0m \u001b[0mreindexOutputVars\u001b[0m\u001b[0;34m=\u001b[0m\u001b[0mreindexOutputVars\u001b[0m\u001b[0;34m)\u001b[0m\u001b[0;34m\u001b[0m\u001b[0;34m\u001b[0m\u001b[0m\n\u001b[0m\u001b[1;32m     76\u001b[0m \u001b[0;34m\u001b[0m\u001b[0m\n\u001b[1;32m     77\u001b[0m \u001b[0;32mdef\u001b[0m \u001b[0mload_query\u001b[0m\u001b[0;34m(\u001b[0m\u001b[0mfilename\u001b[0m\u001b[0;34m)\u001b[0m\u001b[0;34m:\u001b[0m\u001b[0;34m\u001b[0m\u001b[0;34m\u001b[0m\u001b[0m\n",
            "\u001b[0;32m/usr/local/lib/python3.10/dist-packages/maraboupy/MarabouNetworkONNX.py\u001b[0m in \u001b[0;36m__init__\u001b[0;34m(self, filename, inputNames, outputNames, reindexOutputVars)\u001b[0m\n\u001b[1;32m     39\u001b[0m     \u001b[0;32mdef\u001b[0m \u001b[0m__init__\u001b[0m\u001b[0;34m(\u001b[0m\u001b[0mself\u001b[0m\u001b[0;34m,\u001b[0m \u001b[0mfilename\u001b[0m\u001b[0;34m,\u001b[0m \u001b[0minputNames\u001b[0m\u001b[0;34m=\u001b[0m\u001b[0;32mNone\u001b[0m\u001b[0;34m,\u001b[0m \u001b[0moutputNames\u001b[0m\u001b[0;34m=\u001b[0m\u001b[0;32mNone\u001b[0m\u001b[0;34m,\u001b[0m \u001b[0mreindexOutputVars\u001b[0m\u001b[0;34m=\u001b[0m\u001b[0;32mTrue\u001b[0m\u001b[0;34m)\u001b[0m\u001b[0;34m:\u001b[0m\u001b[0;34m\u001b[0m\u001b[0;34m\u001b[0m\u001b[0m\n\u001b[1;32m     40\u001b[0m         \u001b[0msuper\u001b[0m\u001b[0;34m(\u001b[0m\u001b[0;34m)\u001b[0m\u001b[0;34m.\u001b[0m\u001b[0m__init__\u001b[0m\u001b[0;34m(\u001b[0m\u001b[0;34m)\u001b[0m\u001b[0;34m\u001b[0m\u001b[0;34m\u001b[0m\u001b[0m\n\u001b[0;32m---> 41\u001b[0;31m         \u001b[0mself\u001b[0m\u001b[0;34m.\u001b[0m\u001b[0mreadONNX\u001b[0m\u001b[0;34m(\u001b[0m\u001b[0mfilename\u001b[0m\u001b[0;34m,\u001b[0m \u001b[0minputNames\u001b[0m\u001b[0;34m,\u001b[0m \u001b[0moutputNames\u001b[0m\u001b[0;34m,\u001b[0m \u001b[0mreindexOutputVars\u001b[0m\u001b[0;34m=\u001b[0m\u001b[0mreindexOutputVars\u001b[0m\u001b[0;34m)\u001b[0m\u001b[0;34m\u001b[0m\u001b[0;34m\u001b[0m\u001b[0m\n\u001b[0m\u001b[1;32m     42\u001b[0m \u001b[0;34m\u001b[0m\u001b[0m\n\u001b[1;32m     43\u001b[0m     \u001b[0;32mdef\u001b[0m \u001b[0mclear\u001b[0m\u001b[0;34m(\u001b[0m\u001b[0mself\u001b[0m\u001b[0;34m)\u001b[0m\u001b[0;34m:\u001b[0m\u001b[0;34m\u001b[0m\u001b[0;34m\u001b[0m\u001b[0m\n",
            "\u001b[0;32m/usr/local/lib/python3.10/dist-packages/maraboupy/MarabouNetworkONNX.py\u001b[0m in \u001b[0;36mreadONNX\u001b[0;34m(self, filename, inputNames, outputNames, reindexOutputVars)\u001b[0m\n\u001b[1;32m    106\u001b[0m         \u001b[0;31m# Process the shapes and values of the graph while making Marabou equations and constraints\u001b[0m\u001b[0;34m\u001b[0m\u001b[0;34m\u001b[0m\u001b[0m\n\u001b[1;32m    107\u001b[0m         \u001b[0mself\u001b[0m\u001b[0;34m.\u001b[0m\u001b[0mfoundnInputFlags\u001b[0m \u001b[0;34m=\u001b[0m \u001b[0;36m0\u001b[0m\u001b[0;34m\u001b[0m\u001b[0;34m\u001b[0m\u001b[0m\n\u001b[0;32m--> 108\u001b[0;31m         \u001b[0mself\u001b[0m\u001b[0;34m.\u001b[0m\u001b[0mprocessGraph\u001b[0m\u001b[0;34m(\u001b[0m\u001b[0;34m)\u001b[0m\u001b[0;34m\u001b[0m\u001b[0;34m\u001b[0m\u001b[0m\n\u001b[0m\u001b[1;32m    109\u001b[0m \u001b[0;34m\u001b[0m\u001b[0m\n\u001b[1;32m    110\u001b[0m         \u001b[0;31m# If the given inputNames/outputNames specify only a portion of the network, then we will have\u001b[0m\u001b[0;34m\u001b[0m\u001b[0;34m\u001b[0m\u001b[0m\n",
            "\u001b[0;32m/usr/local/lib/python3.10/dist-packages/maraboupy/MarabouNetworkONNX.py\u001b[0m in \u001b[0;36mprocessGraph\u001b[0;34m(self)\u001b[0m\n\u001b[1;32m    143\u001b[0m         \u001b[0;31m# Recursively create remaining shapes and equations as needed\u001b[0m\u001b[0;34m\u001b[0m\u001b[0;34m\u001b[0m\u001b[0m\n\u001b[1;32m    144\u001b[0m         \u001b[0;32mfor\u001b[0m \u001b[0moutputName\u001b[0m \u001b[0;32min\u001b[0m \u001b[0mself\u001b[0m\u001b[0;34m.\u001b[0m\u001b[0moutputNames\u001b[0m\u001b[0;34m:\u001b[0m\u001b[0;34m\u001b[0m\u001b[0;34m\u001b[0m\u001b[0m\n\u001b[0;32m--> 145\u001b[0;31m             \u001b[0mself\u001b[0m\u001b[0;34m.\u001b[0m\u001b[0mmakeGraphEquations\u001b[0m\u001b[0;34m(\u001b[0m\u001b[0moutputName\u001b[0m\u001b[0;34m,\u001b[0m \u001b[0;32mTrue\u001b[0m\u001b[0;34m)\u001b[0m\u001b[0;34m\u001b[0m\u001b[0;34m\u001b[0m\u001b[0m\n\u001b[0m\u001b[1;32m    146\u001b[0m \u001b[0;34m\u001b[0m\u001b[0m\n\u001b[1;32m    147\u001b[0m     \u001b[0;32mdef\u001b[0m \u001b[0mmakeGraphEquations\u001b[0m\u001b[0;34m(\u001b[0m\u001b[0mself\u001b[0m\u001b[0;34m,\u001b[0m \u001b[0mnodeName\u001b[0m\u001b[0;34m,\u001b[0m \u001b[0mmakeEquations\u001b[0m\u001b[0;34m)\u001b[0m\u001b[0;34m:\u001b[0m\u001b[0;34m\u001b[0m\u001b[0;34m\u001b[0m\u001b[0m\n",
            "\u001b[0;32m/usr/local/lib/python3.10/dist-packages/maraboupy/MarabouNetworkONNX.py\u001b[0m in \u001b[0;36mmakeGraphEquations\u001b[0;34m(self, nodeName, makeEquations)\u001b[0m\n\u001b[1;32m    168\u001b[0m         \u001b[0;31m# This ensures that shapes and values of a node's inputs have been computed first\u001b[0m\u001b[0;34m\u001b[0m\u001b[0;34m\u001b[0m\u001b[0m\n\u001b[1;32m    169\u001b[0m         \u001b[0;32mfor\u001b[0m \u001b[0minNodeName\u001b[0m \u001b[0;32min\u001b[0m \u001b[0mself\u001b[0m\u001b[0;34m.\u001b[0m\u001b[0mgetInputNodes\u001b[0m\u001b[0;34m(\u001b[0m\u001b[0mnodeName\u001b[0m\u001b[0;34m)\u001b[0m\u001b[0;34m:\u001b[0m\u001b[0;34m\u001b[0m\u001b[0;34m\u001b[0m\u001b[0m\n\u001b[0;32m--> 170\u001b[0;31m             \u001b[0mself\u001b[0m\u001b[0;34m.\u001b[0m\u001b[0mmakeGraphEquations\u001b[0m\u001b[0;34m(\u001b[0m\u001b[0minNodeName\u001b[0m\u001b[0;34m,\u001b[0m \u001b[0mmakeEquations\u001b[0m\u001b[0;34m)\u001b[0m\u001b[0;34m\u001b[0m\u001b[0;34m\u001b[0m\u001b[0m\n\u001b[0m\u001b[1;32m    171\u001b[0m \u001b[0;34m\u001b[0m\u001b[0m\n\u001b[1;32m    172\u001b[0m         \u001b[0;31m# By this point, all input variables need to have been found\u001b[0m\u001b[0;34m\u001b[0m\u001b[0;34m\u001b[0m\u001b[0m\n",
            "\u001b[0;32m/usr/local/lib/python3.10/dist-packages/maraboupy/MarabouNetworkONNX.py\u001b[0m in \u001b[0;36mmakeGraphEquations\u001b[0;34m(self, nodeName, makeEquations)\u001b[0m\n\u001b[1;32m    168\u001b[0m         \u001b[0;31m# This ensures that shapes and values of a node's inputs have been computed first\u001b[0m\u001b[0;34m\u001b[0m\u001b[0;34m\u001b[0m\u001b[0m\n\u001b[1;32m    169\u001b[0m         \u001b[0;32mfor\u001b[0m \u001b[0minNodeName\u001b[0m \u001b[0;32min\u001b[0m \u001b[0mself\u001b[0m\u001b[0;34m.\u001b[0m\u001b[0mgetInputNodes\u001b[0m\u001b[0;34m(\u001b[0m\u001b[0mnodeName\u001b[0m\u001b[0;34m)\u001b[0m\u001b[0;34m:\u001b[0m\u001b[0;34m\u001b[0m\u001b[0;34m\u001b[0m\u001b[0m\n\u001b[0;32m--> 170\u001b[0;31m             \u001b[0mself\u001b[0m\u001b[0;34m.\u001b[0m\u001b[0mmakeGraphEquations\u001b[0m\u001b[0;34m(\u001b[0m\u001b[0minNodeName\u001b[0m\u001b[0;34m,\u001b[0m \u001b[0mmakeEquations\u001b[0m\u001b[0;34m)\u001b[0m\u001b[0;34m\u001b[0m\u001b[0;34m\u001b[0m\u001b[0m\n\u001b[0m\u001b[1;32m    171\u001b[0m \u001b[0;34m\u001b[0m\u001b[0m\n\u001b[1;32m    172\u001b[0m         \u001b[0;31m# By this point, all input variables need to have been found\u001b[0m\u001b[0;34m\u001b[0m\u001b[0;34m\u001b[0m\u001b[0m\n",
            "\u001b[0;32m/usr/local/lib/python3.10/dist-packages/maraboupy/MarabouNetworkONNX.py\u001b[0m in \u001b[0;36mmakeGraphEquations\u001b[0;34m(self, nodeName, makeEquations)\u001b[0m\n\u001b[1;32m    168\u001b[0m         \u001b[0;31m# This ensures that shapes and values of a node's inputs have been computed first\u001b[0m\u001b[0;34m\u001b[0m\u001b[0;34m\u001b[0m\u001b[0m\n\u001b[1;32m    169\u001b[0m         \u001b[0;32mfor\u001b[0m \u001b[0minNodeName\u001b[0m \u001b[0;32min\u001b[0m \u001b[0mself\u001b[0m\u001b[0;34m.\u001b[0m\u001b[0mgetInputNodes\u001b[0m\u001b[0;34m(\u001b[0m\u001b[0mnodeName\u001b[0m\u001b[0;34m)\u001b[0m\u001b[0;34m:\u001b[0m\u001b[0;34m\u001b[0m\u001b[0;34m\u001b[0m\u001b[0m\n\u001b[0;32m--> 170\u001b[0;31m             \u001b[0mself\u001b[0m\u001b[0;34m.\u001b[0m\u001b[0mmakeGraphEquations\u001b[0m\u001b[0;34m(\u001b[0m\u001b[0minNodeName\u001b[0m\u001b[0;34m,\u001b[0m \u001b[0mmakeEquations\u001b[0m\u001b[0;34m)\u001b[0m\u001b[0;34m\u001b[0m\u001b[0;34m\u001b[0m\u001b[0m\n\u001b[0m\u001b[1;32m    171\u001b[0m \u001b[0;34m\u001b[0m\u001b[0m\n\u001b[1;32m    172\u001b[0m         \u001b[0;31m# By this point, all input variables need to have been found\u001b[0m\u001b[0;34m\u001b[0m\u001b[0;34m\u001b[0m\u001b[0m\n",
            "\u001b[0;32m/usr/local/lib/python3.10/dist-packages/maraboupy/MarabouNetworkONNX.py\u001b[0m in \u001b[0;36mmakeGraphEquations\u001b[0;34m(self, nodeName, makeEquations)\u001b[0m\n\u001b[1;32m    168\u001b[0m         \u001b[0;31m# This ensures that shapes and values of a node's inputs have been computed first\u001b[0m\u001b[0;34m\u001b[0m\u001b[0;34m\u001b[0m\u001b[0m\n\u001b[1;32m    169\u001b[0m         \u001b[0;32mfor\u001b[0m \u001b[0minNodeName\u001b[0m \u001b[0;32min\u001b[0m \u001b[0mself\u001b[0m\u001b[0;34m.\u001b[0m\u001b[0mgetInputNodes\u001b[0m\u001b[0;34m(\u001b[0m\u001b[0mnodeName\u001b[0m\u001b[0;34m)\u001b[0m\u001b[0;34m:\u001b[0m\u001b[0;34m\u001b[0m\u001b[0;34m\u001b[0m\u001b[0m\n\u001b[0;32m--> 170\u001b[0;31m             \u001b[0mself\u001b[0m\u001b[0;34m.\u001b[0m\u001b[0mmakeGraphEquations\u001b[0m\u001b[0;34m(\u001b[0m\u001b[0minNodeName\u001b[0m\u001b[0;34m,\u001b[0m \u001b[0mmakeEquations\u001b[0m\u001b[0;34m)\u001b[0m\u001b[0;34m\u001b[0m\u001b[0;34m\u001b[0m\u001b[0m\n\u001b[0m\u001b[1;32m    171\u001b[0m \u001b[0;34m\u001b[0m\u001b[0m\n\u001b[1;32m    172\u001b[0m         \u001b[0;31m# By this point, all input variables need to have been found\u001b[0m\u001b[0;34m\u001b[0m\u001b[0;34m\u001b[0m\u001b[0m\n",
            "\u001b[0;32m/usr/local/lib/python3.10/dist-packages/maraboupy/MarabouNetworkONNX.py\u001b[0m in \u001b[0;36mmakeGraphEquations\u001b[0;34m(self, nodeName, makeEquations)\u001b[0m\n\u001b[1;32m    176\u001b[0m \u001b[0;34m\u001b[0m\u001b[0m\n\u001b[1;32m    177\u001b[0m         \u001b[0;31m# Compute node's shape and create Marabou equations as needed\u001b[0m\u001b[0;34m\u001b[0m\u001b[0;34m\u001b[0m\u001b[0m\n\u001b[0;32m--> 178\u001b[0;31m         \u001b[0mself\u001b[0m\u001b[0;34m.\u001b[0m\u001b[0mmakeMarabouEquations\u001b[0m\u001b[0;34m(\u001b[0m\u001b[0mnodeName\u001b[0m\u001b[0;34m,\u001b[0m \u001b[0mmakeEquations\u001b[0m\u001b[0;34m)\u001b[0m\u001b[0;34m\u001b[0m\u001b[0;34m\u001b[0m\u001b[0m\n\u001b[0m\u001b[1;32m    179\u001b[0m \u001b[0;34m\u001b[0m\u001b[0m\n\u001b[1;32m    180\u001b[0m         \u001b[0;31m# Create new variables when we find one of the inputs\u001b[0m\u001b[0;34m\u001b[0m\u001b[0;34m\u001b[0m\u001b[0m\n",
            "\u001b[0;32m/usr/local/lib/python3.10/dist-packages/maraboupy/MarabouNetworkONNX.py\u001b[0m in \u001b[0;36mmakeMarabouEquations\u001b[0;34m(self, nodeName, makeEquations)\u001b[0m\n\u001b[1;32m    214\u001b[0m             \u001b[0mself\u001b[0m\u001b[0;34m.\u001b[0m\u001b[0mconvEquations\u001b[0m\u001b[0;34m(\u001b[0m\u001b[0mnode\u001b[0m\u001b[0;34m,\u001b[0m \u001b[0mmakeEquations\u001b[0m\u001b[0;34m)\u001b[0m\u001b[0;34m\u001b[0m\u001b[0;34m\u001b[0m\u001b[0m\n\u001b[1;32m    215\u001b[0m         \u001b[0;32melif\u001b[0m \u001b[0mnode\u001b[0m\u001b[0;34m.\u001b[0m\u001b[0mop_type\u001b[0m \u001b[0;34m==\u001b[0m \u001b[0;34m'Gemm'\u001b[0m\u001b[0;34m:\u001b[0m\u001b[0;34m\u001b[0m\u001b[0;34m\u001b[0m\u001b[0m\n\u001b[0;32m--> 216\u001b[0;31m             \u001b[0mself\u001b[0m\u001b[0;34m.\u001b[0m\u001b[0mgemmEquations\u001b[0m\u001b[0;34m(\u001b[0m\u001b[0mnode\u001b[0m\u001b[0;34m,\u001b[0m \u001b[0mmakeEquations\u001b[0m\u001b[0;34m)\u001b[0m\u001b[0;34m\u001b[0m\u001b[0;34m\u001b[0m\u001b[0m\n\u001b[0m\u001b[1;32m    217\u001b[0m         \u001b[0;32melif\u001b[0m \u001b[0mnode\u001b[0m\u001b[0;34m.\u001b[0m\u001b[0mop_type\u001b[0m \u001b[0;34m==\u001b[0m \u001b[0;34m'MatMul'\u001b[0m\u001b[0;34m:\u001b[0m\u001b[0;34m\u001b[0m\u001b[0;34m\u001b[0m\u001b[0m\n\u001b[1;32m    218\u001b[0m             \u001b[0mself\u001b[0m\u001b[0;34m.\u001b[0m\u001b[0mmatMulEquations\u001b[0m\u001b[0;34m(\u001b[0m\u001b[0mnode\u001b[0m\u001b[0;34m,\u001b[0m \u001b[0mmakeEquations\u001b[0m\u001b[0;34m)\u001b[0m\u001b[0;34m\u001b[0m\u001b[0;34m\u001b[0m\u001b[0m\n",
            "\u001b[0;32m/usr/local/lib/python3.10/dist-packages/maraboupy/MarabouNetworkONNX.py\u001b[0m in \u001b[0;36mgemmEquations\u001b[0;34m(self, node, makeEquations)\u001b[0m\n\u001b[1;32m    680\u001b[0m                 \u001b[0me\u001b[0m \u001b[0;34m=\u001b[0m \u001b[0mMarabouUtils\u001b[0m\u001b[0;34m.\u001b[0m\u001b[0mEquation\u001b[0m\u001b[0;34m(\u001b[0m\u001b[0;34m)\u001b[0m\u001b[0;34m\u001b[0m\u001b[0;34m\u001b[0m\u001b[0m\n\u001b[1;32m    681\u001b[0m                 \u001b[0;32mfor\u001b[0m \u001b[0mk\u001b[0m \u001b[0;32min\u001b[0m \u001b[0mrange\u001b[0m\u001b[0;34m(\u001b[0m\u001b[0mshape1\u001b[0m\u001b[0;34m[\u001b[0m\u001b[0;36m1\u001b[0m\u001b[0;34m]\u001b[0m\u001b[0;34m)\u001b[0m\u001b[0;34m:\u001b[0m\u001b[0;34m\u001b[0m\u001b[0;34m\u001b[0m\u001b[0m\n\u001b[0;32m--> 682\u001b[0;31m                     \u001b[0me\u001b[0m\u001b[0;34m.\u001b[0m\u001b[0maddAddend\u001b[0m\u001b[0;34m(\u001b[0m\u001b[0minput2\u001b[0m\u001b[0;34m[\u001b[0m\u001b[0mk\u001b[0m\u001b[0;34m]\u001b[0m\u001b[0;34m[\u001b[0m\u001b[0mj\u001b[0m\u001b[0;34m]\u001b[0m\u001b[0;34m*\u001b[0m\u001b[0malpha\u001b[0m\u001b[0;34m,\u001b[0m \u001b[0minput1\u001b[0m\u001b[0;34m[\u001b[0m\u001b[0mi\u001b[0m\u001b[0;34m]\u001b[0m\u001b[0;34m[\u001b[0m\u001b[0mk\u001b[0m\u001b[0;34m]\u001b[0m\u001b[0;34m)\u001b[0m\u001b[0;34m\u001b[0m\u001b[0;34m\u001b[0m\u001b[0m\n\u001b[0m\u001b[1;32m    683\u001b[0m \u001b[0;34m\u001b[0m\u001b[0m\n\u001b[1;32m    684\u001b[0m                 \u001b[0;31m# Put output variable as the last addend last\u001b[0m\u001b[0;34m\u001b[0m\u001b[0;34m\u001b[0m\u001b[0m\n",
            "\u001b[0;32m/usr/local/lib/python3.10/dist-packages/maraboupy/MarabouUtils.py\u001b[0m in \u001b[0;36maddAddend\u001b[0;34m(self, c, x)\u001b[0m\n\u001b[1;32m     39\u001b[0m         \u001b[0mself\u001b[0m\u001b[0;34m.\u001b[0m\u001b[0mscalar\u001b[0m \u001b[0;34m=\u001b[0m \u001b[0mx\u001b[0m\u001b[0;34m\u001b[0m\u001b[0;34m\u001b[0m\u001b[0m\n\u001b[1;32m     40\u001b[0m \u001b[0;34m\u001b[0m\u001b[0m\n\u001b[0;32m---> 41\u001b[0;31m     \u001b[0;32mdef\u001b[0m \u001b[0maddAddend\u001b[0m\u001b[0;34m(\u001b[0m\u001b[0mself\u001b[0m\u001b[0;34m,\u001b[0m \u001b[0mc\u001b[0m\u001b[0;34m,\u001b[0m \u001b[0mx\u001b[0m\u001b[0;34m)\u001b[0m\u001b[0;34m:\u001b[0m\u001b[0;34m\u001b[0m\u001b[0;34m\u001b[0m\u001b[0m\n\u001b[0m\u001b[1;32m     42\u001b[0m         \"\"\"Add an addend to the equation\n\u001b[1;32m     43\u001b[0m \u001b[0;34m\u001b[0m\u001b[0m\n",
            "\u001b[0;31mKeyboardInterrupt\u001b[0m: "
          ]
        }
      ]
    },
    {
      "cell_type": "code",
      "source": [],
      "metadata": {
        "id": "fO32cP30f4r-"
      },
      "execution_count": null,
      "outputs": []
    },
    {
      "cell_type": "code",
      "source": [
        "np.where(np.array(final_a)==1)[0].tolist()"
      ],
      "metadata": {
        "id": "1Q41CoCfBxAs",
        "outputId": "221762ba-d564-4039-8d5d-83f15f10ad60",
        "colab": {
          "base_uri": "https://localhost:8080/"
        }
      },
      "execution_count": null,
      "outputs": [
        {
          "output_type": "execute_result",
          "data": {
            "text/plain": [
              "[31]"
            ]
          },
          "metadata": {},
          "execution_count": 18
        }
      ]
    },
    {
      "cell_type": "code",
      "source": [
        "# alpha: 0.7310585786300049\n",
        "# --------CHECK PATTERN: output_1 is always less than output_0 ? --------\n",
        "# unsat\n",
        "# valid relu for label: 1 and other label: 0 = 0\n",
        "# ????\n",
        "\n",
        "#1, 2: 5\n",
        "#2, 0: 2\n",
        "#2, 1: 3"
      ],
      "metadata": {
        "colab": {
          "base_uri": "https://localhost:8080/"
        },
        "id": "rieeEZ332fG5",
        "outputId": "882dbf47-dd10-4598-9665-a07ef051d308"
      },
      "execution_count": null,
      "outputs": [
        {
          "output_type": "execute_result",
          "data": {
            "text/plain": [
              "1"
            ]
          },
          "metadata": {},
          "execution_count": 84
        }
      ]
    },
    {
      "cell_type": "code",
      "source": [
        "F_count=0\n",
        "def activecoarsen(a_U,theta):\n",
        "  global F_count\n",
        "  alpha=get_alpha(theta)\n",
        "  if alpha<e**(-1) and F(a_U)==\"unsat\":#a_U.count(1)<=10:\n",
        "    return a_U#scancorasen(empty,a_U)\n",
        "  empty=[0 for i in range(all_relus)]\n",
        "  a=sample(alpha,empty,a_U)\n",
        "  if F(a)==\"unsat\":\n",
        "    F_count+=1\n",
        "    F_a_i = 0\n",
        "    theta=theta-step_size*(1-F_a_i-target_prob)\n",
        "    return activecoarsen(a,theta) #reduced\n",
        "  else:\n",
        "    F_count+=1\n",
        "    F_a_i = 1\n",
        "    theta=theta-step_size*(1-F_a_i-target_prob)\n",
        "    return activecoarsen(a_U,theta) #try again"
      ],
      "metadata": {
        "id": "YetCxoOk4igr"
      },
      "execution_count": 6,
      "outputs": []
    },
    {
      "cell_type": "code",
      "source": [
        "theta=1\n",
        "label=0\n",
        "final_a=activecoarsen([1 for i in range(all_relus)],theta)\n",
        "print(f\"valid relu for label {label}: {final_a.count(1)}, at {np.where(np.array(final_a)==1)[0].tolist()}, calls of F: {F_count}\") #varies from 1 to 7??"
      ],
      "metadata": {
        "id": "BASYVf7_5n_G"
      },
      "execution_count": null,
      "outputs": []
    },
    {
      "cell_type": "code",
      "execution_count": null,
      "metadata": {
        "id": "Ts3oMryVSutC",
        "colab": {
          "base_uri": "https://localhost:8080/"
        },
        "outputId": "c35142ce-3aff-4dbc-d9ff-987e3ec78ef6"
      },
      "outputs": [
        {
          "output_type": "stream",
          "name": "stdout",
          "text": [
            "consider neuron=0\n",
            "--------CHECK PATTERN: output_0 is always less than output_0 ? --------\n",
            "unsat\n",
            "--------CHECK PATTERN: output_0 is always less than output_1 ? --------\n",
            "unsat\n",
            "--------CHECK PATTERN: output_0 is always less than output_2 ? --------\n",
            "unsat\n",
            "--------CHECK PATTERN: output_0 is always less than output_3 ? --------\n",
            "unsat\n",
            "--------CHECK PATTERN: output_0 is always less than output_4 ? --------\n",
            "unsat\n",
            "--------CHECK PATTERN: output_0 is always less than output_5 ? --------\n",
            "unsat\n",
            "--------CHECK PATTERN: output_0 is always less than output_6 ? --------\n",
            "unsat\n",
            "--------CHECK PATTERN: output_0 is always less than output_7 ? --------\n",
            "unsat\n",
            "--------CHECK PATTERN: output_0 is always less than output_8 ? --------\n",
            "unsat\n",
            "--------CHECK PATTERN: output_0 is always less than output_9 ? --------\n",
            "unsat\n",
            "dict_keys([1, 2, 3, 4, 5, 6, 7, 8, 9, 10, 11, 12, 13, 14, 15, 16, 17, 18, 19, 20, 21, 22, 23, 24, 25, 26, 27, 28, 29, 30, 31, 32, 33, 34, 35, 36, 37, 38, 39, 40, 41, 42, 43, 44, 45, 46, 47, 48, 49, 50, 51, 52, 53, 54, 55, 56, 57, 58, 59, 60, 61, 62, 63, 64, 65, 66, 67, 68, 69, 70, 71, 72, 73, 74, 75, 76, 77, 78, 79, 80, 81, 82, 83, 84, 85, 86, 87, 88, 89, 90, 91, 92, 93, 94, 95, 96, 97, 98, 99, 100, 101, 102, 103, 104, 105, 106, 107, 108, 109, 110, 111, 112, 113, 114, 115, 116, 117, 118, 119, 120, 121, 122, 123, 124, 125, 126, 127, 128, 129, 130, 131, 132, 133, 134, 135, 136, 137, 138, 139, 140, 141, 142, 143, 144, 145, 146, 147, 148, 149, 150, 151, 152, 153, 154, 155, 156, 157, 158, 159, 160, 161, 162, 163, 164, 165, 166, 167, 168, 169, 170, 171, 172, 173, 174, 175, 176, 177, 178, 179, 180, 181, 182, 183, 184, 185, 186, 187, 188, 189, 190, 191, 192, 193, 194, 195, 196, 197, 198, 199, 200, 201, 202, 203, 204, 205, 206, 207, 208, 209, 210, 211, 212, 213, 214, 215, 216, 217, 218, 219, 220, 221, 222, 223, 224, 225, 226, 227, 228, 229, 230, 231, 232, 233, 234, 235, 236, 237, 238, 239, 240, 241, 242, 243, 244, 245, 246, 247, 248, 249, 250, 251, 252, 253, 254, 255, 256, 257, 258, 259, 260, 261, 262, 263, 264, 265, 266, 267, 268, 269, 270, 271, 272, 273, 274, 275, 276, 277, 278, 279, 280, 281, 282, 283, 284, 285, 286, 287, 288, 289, 290, 291, 292, 293, 294, 295, 296, 297, 298, 299, 300, 301, 302, 303, 304, 305, 306, 307, 308, 309, 310, 311, 312, 313, 314, 315, 316, 317, 318, 319, 320, 321, 322, 323, 324, 325, 326, 327, 328, 329, 330, 331, 332, 333, 334, 335, 336, 337, 338, 339, 340, 341, 342, 343, 344, 345, 346, 347, 348, 349, 350, 351, 352, 353, 354, 355, 356, 357, 358, 359, 360, 361, 362, 363, 364, 365, 366, 367, 368, 369, 370, 371, 372, 373, 374, 375, 376, 377, 378, 379, 380, 381, 382, 383, 384, 385, 386, 387, 388, 389, 390, 391, 392, 393, 394, 395, 396, 397, 398, 399, 400, 401, 402, 403, 404, 405, 406, 407, 408, 409, 410, 411, 412, 413, 414, 415, 416, 417, 418, 419, 420, 421, 422, 423, 424, 425, 426, 427, 428, 429, 430, 431, 432, 433, 434, 435, 436, 437, 438, 439, 440, 441, 442, 443, 444, 445, 446, 447, 448, 449, 450, 451, 452, 453, 454, 455, 456, 457, 458, 459, 460, 461, 462, 463, 464, 465, 466, 467, 468, 469, 470, 471, 472, 473, 474, 475, 476, 477, 478, 479, 480, 481, 482, 483, 484, 485, 486, 487, 488, 489, 490, 491, 492, 493, 494, 495, 496, 497, 498, 499, 500, 501, 502, 503, 504, 505, 506, 507, 508, 509, 510, 511, 512, 513, 514, 515, 516, 517, 518, 519, 520, 521, 522, 523, 524, 525, 526, 527, 528, 529, 530, 531, 532, 533, 534, 535, 536, 537, 538, 539, 540, 541, 542, 543, 544, 545, 546, 547, 548, 549, 550, 551, 552, 553, 554, 555, 556, 557, 558, 559, 560, 561, 562, 563, 564, 565, 566, 567, 568, 569, 570, 571, 572, 573, 574, 575, 576, 577, 578, 579, 580, 581, 582, 583, 584, 585, 586, 587, 588, 589, 590, 591, 592, 593, 594, 595, 596, 597, 598, 599, 600, 601, 602, 603, 604, 605, 606, 607, 608, 609, 610, 611, 612, 613, 614, 615, 616, 617, 618, 619, 620, 621, 622, 623, 624, 625, 626, 627, 628, 629, 630, 631, 632, 633, 634, 635, 636, 637, 638, 639, 640, 641, 642, 643, 644, 645, 646, 647, 648, 649, 650, 651, 652, 653, 654, 655, 656, 657, 658, 659, 660, 661, 662, 663, 664, 665, 666, 667, 668, 669, 670, 671, 672, 673, 674, 675, 676, 677, 678, 679, 680, 681, 682, 683, 684, 685, 686, 687, 688, 689, 690, 691, 692, 693, 694, 695, 696, 697, 698, 699, 700, 701, 702, 703, 704, 705, 706, 707, 708, 709, 710, 711, 712, 713, 714, 715, 716, 717, 718, 719, 720, 721, 722, 723, 724, 725, 726, 727, 728, 729, 730, 731, 732, 733, 734, 735, 736, 737, 738, 739, 740, 741, 742, 743, 744, 745, 746, 747, 748, 749, 750, 751, 752, 753, 754, 755, 756, 757, 758, 759, 760, 761, 762, 763, 764, 765, 766, 767, 768, 769, 770, 771, 772, 773, 774, 775, 776, 777, 778, 779, 780, 781, 782, 783, 784, 785, 786, 787, 788, 789, 790, 791, 792, 793, 794, 795, 796, 797, 798, 799, 800, 801, 802, 803, 804, 805, 806, 807, 808, 809, 810, 811, 812, 813, 814, 815, 816, 817, 818, 819, 820, 821, 822, 823, 824, 825, 826, 827, 828, 829, 830, 831, 832, 833, 834, 835, 836, 837, 838, 839, 840, 841, 842, 843, 844, 845, 846, 847, 848, 849, 850, 851, 852, 853, 854, 855, 856, 857, 858, 859, 860, 861, 862, 863, 864, 865, 866, 867, 868, 869, 870, 871, 872, 873, 874, 875, 876, 877, 878, 879, 880, 881, 882, 883, 884, 885, 886, 887, 888, 889, 890, 891, 892, 893, 894, 895, 896, 897, 898, 899, 900, 901, 902, 903, 904, 905, 906, 907, 908, 909, 910, 911, 912, 913, 914, 915, 916, 917, 918, 919, 920, 921, 922, 923, 924, 925, 926, 927, 928, 929, 930, 931, 932, 933, 934, 935, 936, 937, 938, 939, 940, 941, 942, 943, 944, 945, 946, 947, 948, 949, 950, 951, 952, 953, 954, 955, 956, 957, 958, 959, 960, 961, 962, 963, 964, 965, 966, 967, 968, 969, 970, 971, 972, 973, 974, 975, 976, 977, 978, 979, 980, 981, 982, 983, 984, 985, 986, 987, 988, 989, 990, 991, 992, 993, 994, 995, 996, 997, 998, 999, 1000, 1001, 1002, 1003, 1004, 1005, 1006, 1007, 1008, 1009, 1010, 1011, 1012, 1013, 1014, 1015, 1016, 1017, 1018, 1019, 1020, 1021, 1022, 1023])\n",
            "consider neuron=1\n",
            "--------CHECK PATTERN: output_0 is always less than output_0 ? --------\n",
            "unsat\n",
            "--------CHECK PATTERN: output_0 is always less than output_1 ? --------\n",
            "unsat\n",
            "--------CHECK PATTERN: output_0 is always less than output_2 ? --------\n",
            "unsat\n",
            "--------CHECK PATTERN: output_0 is always less than output_3 ? --------\n"
          ]
        }
      ],
      "source": [
        "def func(relus):\n",
        "    for other_label in range(total_label):\n",
        "        exit_code, running_time = check_pattern(relus, label=int(label), other_label=other_label)\n",
        "        if exit_code == \"sat\":\n",
        "            return False\n",
        "    return True\n",
        "\n",
        "def scancoarsen(relu_label):\n",
        "    keys = list(relu_label.keys())  # Convert keys to a list to avoid runtime error while modifying the dictionary\n",
        "    for k in keys:\n",
        "        print(f\"consider neuron={k}\")\n",
        "        vals = relu_label[k]\n",
        "        relu_label_copy = relu_label.copy()\n",
        "        relu_label_copy.pop(k)\n",
        "        if func(relu_label_copy):\n",
        "            relu_label.pop(k)\n",
        "            print(relu_label.keys())\n",
        "            continue\n",
        "        else:\n",
        "            relu_label[k] = vals\n",
        "    return list(relu_label.keys())  # Return the remaining keys\n",
        "\n",
        "# # Assuming STABLE_PATTERNS is a list of dictionaries\n",
        "# for label in range(1):\n",
        "#     relu_label = STABLE_PATTERNS[label].copy()\n",
        "#     remaining_keys = scancoarsen(relu_label)\n",
        "#     print(f\"Remaining keys after coarsening for label {label}: {remaining_keys}\")\n",
        "\n",
        "relu_remaining={}\n",
        "for label in range(total_label):\n",
        "  relu_label = STABLE_PATTERNS[label].copy()\n",
        "  remaining_keys = scancoarsen(relu_label)\n",
        "  relu_remaining[label]=remaining_keys\n",
        "\n",
        "for k,v in relu_remaining.items():\n",
        "  print(f\"Remaining keys after coarsening for label {k}: {v}\") #wow colab ai code is really good!\n",
        "#print(f\"Remaining keys after coarsening for label {label}: {remaining_keys}\")"
      ]
    },
    {
      "cell_type": "code",
      "source": [
        "network=init_network()\n",
        "offset = network.outputVars[0][0][0]\n",
        "label=0\n",
        "other_label=1\n",
        "#add constraint\n",
        "for i in range(4):\n",
        "  network.setLowerBound(i, 0)\n",
        "  network.setUpperBound(i, 1)\n",
        "#add output constraint\n",
        "#why not just add all other labels??\n",
        "constraint = MarabouUtils.Equation(MarabouCore.Equation.GE)\n",
        "constraint.addAddend(1, other_label+offset)\n",
        "constraint.addAddend(-1, label+offset)\n",
        "constraint.setScalar(0.001)\n",
        "network.addEquation(constraint)\n",
        "\n",
        "for neuron,values in STABLE_PATTERNS[label].items(): #everything\n",
        "  if a[neuron]==1: #include this relu\n",
        "    layer, idx, marabou_idx = parse_raw_idx(neuron)\n",
        "    #print(f'{neuron}: {values}')\n",
        "    if values.count(0) > len(values)*0.5: #len(X_train)*0.5:  len(values)\n",
        "        constraint = MarabouUtils.Equation(MarabouCore.Equation.LE)\n",
        "        constraint.addAddend(1, marabou_idx)\n",
        "        constraint.setScalar(-0.001)\n",
        "    else:\n",
        "        constraint = MarabouUtils.Equation(MarabouCore.Equation.GE)\n",
        "        constraint.addAddend(1, marabou_idx)\n",
        "        constraint.setScalar(0.001)\n",
        "    network.addEquation(constraint)\n",
        "\n",
        "#import pdb;pdb.set_trace()\n",
        "\n",
        "try:\n",
        "  exit_code, vals, stats = network.solve(options=M_OPTIONS)\n",
        "except Exception as e:\n",
        "  print(e)\n",
        "  print(exit_code)\n",
        "\n",
        "#exit_code, vals, stats = network.solve(options=M_OPTIONS)\n",
        "# print(exit_code)\n",
        "# print(val)\n",
        "#len(network.equList)"
      ],
      "metadata": {
        "colab": {
          "base_uri": "https://localhost:8080/"
        },
        "id": "8-wkDo3Dr5zg",
        "outputId": "4a620e34-4572-4344-d281-0723f5af85bf"
      },
      "execution_count": null,
      "outputs": [
        {
          "output_type": "stream",
          "name": "stdout",
          "text": [
            "unsat\n"
          ]
        }
      ]
    },
    {
      "cell_type": "code",
      "execution_count": null,
      "metadata": {
        "id": "M98VjGpkwzeN",
        "outputId": "bf4d84cb-dc1a-41db-96b4-4af0fa0b8798",
        "colab": {
          "base_uri": "https://localhost:8080/"
        }
      },
      "outputs": [
        {
          "output_type": "stream",
          "name": "stdout",
          "text": [
            "Epoch 10, Loss: 0.6957077980041504\n",
            "Epoch 20, Loss: 0.3569485545158386\n",
            "Epoch 30, Loss: 0.06546592712402344\n",
            "Epoch 40, Loss: 0.14150819182395935\n",
            "Epoch 50, Loss: 0.08709496259689331\n",
            "Epoch 60, Loss: 0.005371565464884043\n",
            "Epoch 70, Loss: 0.03119882568717003\n",
            "Epoch 80, Loss: 0.001806743093766272\n",
            "Epoch 90, Loss: 0.0013030058471485972\n",
            "Epoch 100, Loss: 0.003509345930069685\n"
          ]
        }
      ],
      "source": [
        "import torch\n",
        "import torch.nn as nn\n",
        "import torch.optim as optim\n",
        "from sklearn.datasets import load_iris\n",
        "from sklearn.model_selection import train_test_split\n",
        "from sklearn.preprocessing import StandardScaler\n",
        "from torch.utils.data import DataLoader, TensorDataset\n",
        "import numpy as np\n",
        "\n",
        "\n",
        "# Load the Iris dataset\n",
        "data = load_iris()\n",
        "X, y = data.data, data.target\n",
        "\n",
        "# Standardize features\n",
        "scaler = StandardScaler()\n",
        "X_scaled = scaler.fit_transform(X)\n",
        "\n",
        "# Split the data into training and test sets\n",
        "X_train, X_test, y_train, y_test = train_test_split(X_scaled, y, test_size=0.2, random_state=42)\n",
        "\n",
        "# Convert to PyTorch tensors\n",
        "X_train_tensor = torch.tensor(X_train, dtype=torch.float32)\n",
        "y_train_tensor = torch.tensor(y_train, dtype=torch.long)\n",
        "X_test_tensor = torch.tensor(X_test, dtype=torch.float32)\n",
        "y_test_tensor = torch.tensor(y_test, dtype=torch.long)\n",
        "\n",
        "# Create DataLoader\n",
        "train_dataset = TensorDataset(X_train_tensor, y_train_tensor)\n",
        "train_loader = DataLoader(train_dataset, batch_size=16, shuffle=True)\n",
        "\n",
        "# Define the neural network architecture\n",
        "class IrisNet(nn.Module):\n",
        "    def __init__(self):\n",
        "        super(IrisNet, self).__init__()\n",
        "        self.fc1 = nn.Linear(4, 20)  # Input layer to hidden layer\n",
        "        self.relu1 = nn.ReLU()\n",
        "        self.fc2 = nn.Linear(20, 20) # Hidden layer to hidden layer\n",
        "        self.relu2 = nn.ReLU()\n",
        "        self.fc3 = nn.Linear(20, 20) # Hidden layer to hidden layer\n",
        "        self.relu3 = nn.ReLU()\n",
        "        self.fc4 = nn.Linear(20, 3)  # Hidden layer to output layer\n",
        "\n",
        "    def forward(self, x):\n",
        "        x = self.fc1(x)\n",
        "        x = self.relu1(x)\n",
        "        x = self.fc2(x)\n",
        "        x = self.relu2(x)\n",
        "        x = self.fc3(x)\n",
        "        x = self.relu3(x)\n",
        "        x = self.fc4(x)\n",
        "        return x\n",
        "\n",
        "# Initialize the network\n",
        "model = IrisNet()\n",
        "\n",
        "# Loss and optimizer\n",
        "criterion = nn.CrossEntropyLoss()\n",
        "optimizer = optim.Adam(model.parameters(), lr=0.001)\n",
        "\n",
        "# Training loop\n",
        "epochs = 100\n",
        "for epoch in range(epochs):\n",
        "    for inputs, labels in train_loader:\n",
        "        optimizer.zero_grad()\n",
        "        outputs = model(inputs)\n",
        "        loss = criterion(outputs, labels)\n",
        "        loss.backward()\n",
        "        optimizer.step()\n",
        "\n",
        "    # Print loss every 10 epochs\n",
        "    if epoch % 10 == 9:\n",
        "        print(f'Epoch {epoch+1}, Loss: {loss.item()}')\n",
        "\n",
        "# Check if the model trains without error up to this point\n",
        "# \"Model trained successfully!\"\n"
      ]
    },
    {
      "cell_type": "code",
      "execution_count": null,
      "metadata": {
        "colab": {
          "base_uri": "https://localhost:8080/"
        },
        "id": "eqDgTtJARaCI",
        "outputId": "ca02ca74-4821-43c8-8fc9-83b9873f921d"
      },
      "outputs": [
        {
          "data": {
            "text/plain": [
              "{'relu1': tensor([[1.2062, 1.4942, 0.0000, 2.6629, 0.0000, 0.0000, 0.1008, 0.0000, 1.2812,\n",
              "          0.4878, 1.9803, 1.7296, 2.2217, 1.8856, 0.0000, 0.0000, 1.3994, 0.0000,\n",
              "          0.0000, 2.1766]]),\n",
              " 'relu2': tensor([[3.5583e+00, 0.0000e+00, 4.5825e+00, 0.0000e+00, 3.0476e+00, 3.5773e+00,\n",
              "          0.0000e+00, 0.0000e+00, 3.5550e+00, 3.8430e+00, 0.0000e+00, 0.0000e+00,\n",
              "          0.0000e+00, 0.0000e+00, 0.0000e+00, 4.2207e+00, 3.7258e+00, 5.4662e+00,\n",
              "          0.0000e+00, 1.4705e-03]]),\n",
              " 'relu3': tensor([[ 0.0000,  0.0000,  0.0000,  2.0140,  0.0000,  3.8408,  0.0000,  0.0000,\n",
              "           3.7716,  0.0000,  0.0000,  0.0000,  0.0000,  0.0000, 10.4726,  8.1664,\n",
              "           0.0000,  0.0000,  8.5828,  0.0000]])}"
            ]
          },
          "execution_count": 9,
          "metadata": {},
          "output_type": "execute_result"
        }
      ],
      "source": [
        "import onnx\n",
        "from onnx2pytorch import ConvertModel\n",
        "\n",
        "\n",
        "# onnx_model = onnx.load(\"iris_model.onnx\")\n",
        "# model = ConvertModel(onnx_model)\n",
        "\n",
        "activations = {}\n",
        "\n",
        "def get_activation(name):\n",
        "    def hook(model, input, output):\n",
        "        activations[name] = output.detach()\n",
        "    return hook\n",
        "\n",
        "i=1\n",
        "# Assuming the ReLU layers are named similarly to your PyTorch model, you can add hooks like this\n",
        "for name, layer in model.named_modules():\n",
        "    if isinstance(layer, torch.nn.ReLU):\n",
        "        # Register the hook\n",
        "        layer.register_forward_hook(get_activation(f'relu{i}'))\n",
        "        i=i+1\n",
        "\n",
        "# Now, when you run a forward pass, the hooks will store the ReLU activations\n",
        "with torch.no_grad():\n",
        "    output = model(X_train_tensor[0].unsqueeze(0))\n",
        "\n",
        "# Check the captured activations\n",
        "activations\n",
        "# Remove hooks (to clean up)\n",
        "# hook1.remove()\n",
        "# hook2.remove()"
      ]
    },
    {
      "cell_type": "code",
      "execution_count": null,
      "metadata": {
        "colab": {
          "base_uri": "https://localhost:8080/"
        },
        "id": "8ZaXSAFSh5Nu",
        "outputId": "5c0773aa-d716-4291-e12e-f6e9adbb23da"
      },
      "outputs": [
        {
          "name": "stdout",
          "output_type": "stream",
          "text": [
            "30/30\n"
          ]
        }
      ],
      "source": [
        "#accuracy:\n",
        "i=0\n",
        "with torch.no_grad():\n",
        "  for inputs,label in zip(X_test_tensor, y_test_tensor):\n",
        "          outputs = model(inputs.unsqueeze(0))\n",
        "          #print(outputs)\n",
        "          pred=outputs.argmax() #output not normalized\n",
        "          if pred==label:\n",
        "            i=i+1\n",
        "print(f'{i}/{len(X_test_tensor)}')\n",
        "\n",
        "model(X_train_tensor[0].unsqueeze(0))\n",
        "\n",
        "onnx_file_path = \"iris_model_60.onnx\"\n",
        "torch.onnx.export(model, torch.randn(1, 4), onnx_file_path, verbose=False)"
      ]
    },
    {
      "cell_type": "markdown",
      "metadata": {
        "id": "n8IRdRkQ-pOl"
      },
      "source": [
        "find states:"
      ]
    },
    {
      "cell_type": "code",
      "execution_count": null,
      "metadata": {
        "id": "QkaVL6lNSVwH"
      },
      "outputs": [],
      "source": [
        "states={}\n",
        "for i in range(3):\n",
        "  states[i]={}\n",
        "\n",
        "with torch.no_grad():\n",
        "  for neuron in range(60):\n",
        "    for idx, (inputs, labels) in enumerate(train_loader):\n",
        "      for i,t in zip(inputs,labels):\n",
        "        t=t.item()\n",
        "        outputs = model(i.unsqueeze(0))\n",
        "        out=activations[f'relu{(neuron//20)+1}'][:,neuron%20].tolist()[0]\n",
        "        if not neuron in states[t]:\n",
        "          states[t][neuron]=[]\n",
        "        states[t][neuron].append(out)\n",
        "\n",
        "with open(\"relu_states\", \"w\") as fp:\n",
        "  json.dump(states, fp)\n",
        "\n",
        "states[0]\n",
        "\n",
        "# states\n",
        "# json\n",
        "# label:{{neuron: states}, }"
      ]
    },
    {
      "cell_type": "markdown",
      "metadata": {
        "id": "zeGQse17-vrY"
      },
      "source": [
        "###### initialize marabou"
      ]
    },
    {
      "cell_type": "code",
      "execution_count": null,
      "metadata": {
        "id": "U66qhU6wLW55"
      },
      "outputs": [],
      "source": [
        "#start with all relu，删减直到不能verify？"
      ]
    },
    {
      "cell_type": "code",
      "execution_count": null,
      "metadata": {
        "id": "9hiBON9ZMEL-"
      },
      "outputs": [],
      "source": [
        "# network=init_network()\n",
        "# network.outputVars #4,5,6\n",
        "# network.inputVars #0,1,2,3\n",
        "# network.reluList #(i+10) for i in range(7,37)\n",
        "# network.numVars #47\n",
        "# offset=7"
      ]
    },
    {
      "cell_type": "markdown",
      "metadata": {
        "id": "NgG40QhIS2rs"
      },
      "source": [
        "\n",
        "\n",
        "---\n",
        "\n"
      ]
    }
  ],
  "metadata": {
    "accelerator": "GPU",
    "colab": {
      "machine_shape": "hm",
      "provenance": [],
      "gpuType": "T4"
    },
    "kernelspec": {
      "display_name": "Python 3",
      "name": "python3"
    },
    "language_info": {
      "codemirror_mode": {
        "name": "ipython",
        "version": 3
      },
      "file_extension": ".py",
      "mimetype": "text/x-python",
      "name": "python",
      "nbconvert_exporter": "python",
      "pygments_lexer": "ipython3",
      "version": "3.9.12"
    }
  },
  "nbformat": 4,
  "nbformat_minor": 0
}