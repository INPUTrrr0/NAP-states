{
  "nbformat": 4,
  "nbformat_minor": 0,
  "metadata": {
    "colab": {
      "provenance": [],
      "machine_shape": "hm",
      "gpuType": "T4"
    },
    "kernelspec": {
      "name": "python3",
      "display_name": "Python 3"
    },
    "language_info": {
      "name": "python"
    },
    "accelerator": "GPU"
  },
  "cells": [
    {
      "cell_type": "code",
      "execution_count": 1,
      "metadata": {
        "id": "z_X033oPFf-0",
        "colab": {
          "base_uri": "https://localhost:8080/"
        },
        "outputId": "ba65cc4f-4a46-4291-b4b0-21f69e53dbc9"
      },
      "outputs": [
        {
          "output_type": "stream",
          "name": "stdout",
          "text": [
            "Collecting onnx\n",
            "  Downloading onnx-1.15.0-cp310-cp310-manylinux_2_17_x86_64.manylinux2014_x86_64.whl (15.7 MB)\n",
            "\u001b[2K     \u001b[90m━━━━━━━━━━━━━━━━━━━━━━━━━━━━━━━━━━━━━━━━\u001b[0m \u001b[32m15.7/15.7 MB\u001b[0m \u001b[31m76.3 MB/s\u001b[0m eta \u001b[36m0:00:00\u001b[0m\n",
            "\u001b[?25hRequirement already satisfied: numpy in /usr/local/lib/python3.10/dist-packages (from onnx) (1.25.2)\n",
            "Requirement already satisfied: protobuf>=3.20.2 in /usr/local/lib/python3.10/dist-packages (from onnx) (3.20.3)\n",
            "Installing collected packages: onnx\n",
            "Successfully installed onnx-1.15.0\n",
            "Collecting onnxruntime\n",
            "  Downloading onnxruntime-1.17.1-cp310-cp310-manylinux_2_27_x86_64.manylinux_2_28_x86_64.whl (6.8 MB)\n",
            "\u001b[2K     \u001b[90m━━━━━━━━━━━━━━━━━━━━━━━━━━━━━━━━━━━━━━━━\u001b[0m \u001b[32m6.8/6.8 MB\u001b[0m \u001b[31m46.4 MB/s\u001b[0m eta \u001b[36m0:00:00\u001b[0m\n",
            "\u001b[?25hCollecting coloredlogs (from onnxruntime)\n",
            "  Downloading coloredlogs-15.0.1-py2.py3-none-any.whl (46 kB)\n",
            "\u001b[2K     \u001b[90m━━━━━━━━━━━━━━━━━━━━━━━━━━━━━━━━━━━━━━━━\u001b[0m \u001b[32m46.0/46.0 kB\u001b[0m \u001b[31m6.3 MB/s\u001b[0m eta \u001b[36m0:00:00\u001b[0m\n",
            "\u001b[?25hRequirement already satisfied: flatbuffers in /usr/local/lib/python3.10/dist-packages (from onnxruntime) (23.5.26)\n",
            "Requirement already satisfied: numpy>=1.21.6 in /usr/local/lib/python3.10/dist-packages (from onnxruntime) (1.25.2)\n",
            "Requirement already satisfied: packaging in /usr/local/lib/python3.10/dist-packages (from onnxruntime) (23.2)\n",
            "Requirement already satisfied: protobuf in /usr/local/lib/python3.10/dist-packages (from onnxruntime) (3.20.3)\n",
            "Requirement already satisfied: sympy in /usr/local/lib/python3.10/dist-packages (from onnxruntime) (1.12)\n",
            "Collecting humanfriendly>=9.1 (from coloredlogs->onnxruntime)\n",
            "  Downloading humanfriendly-10.0-py2.py3-none-any.whl (86 kB)\n",
            "\u001b[2K     \u001b[90m━━━━━━━━━━━━━━━━━━━━━━━━━━━━━━━━━━━━━━━━\u001b[0m \u001b[32m86.8/86.8 kB\u001b[0m \u001b[31m13.1 MB/s\u001b[0m eta \u001b[36m0:00:00\u001b[0m\n",
            "\u001b[?25hRequirement already satisfied: mpmath>=0.19 in /usr/local/lib/python3.10/dist-packages (from sympy->onnxruntime) (1.3.0)\n",
            "Installing collected packages: humanfriendly, coloredlogs, onnxruntime\n",
            "Successfully installed coloredlogs-15.0.1 humanfriendly-10.0 onnxruntime-1.17.1\n",
            "Collecting onnx2pytorch\n",
            "  Downloading onnx2pytorch-0.4.1-py3-none-any.whl (44 kB)\n",
            "\u001b[2K     \u001b[90m━━━━━━━━━━━━━━━━━━━━━━━━━━━━━━━━━━━━━━━━\u001b[0m \u001b[32m44.9/44.9 kB\u001b[0m \u001b[31m1.4 MB/s\u001b[0m eta \u001b[36m0:00:00\u001b[0m\n",
            "\u001b[?25hRequirement already satisfied: torch>=1.4.0 in /usr/local/lib/python3.10/dist-packages (from onnx2pytorch) (2.1.0+cu121)\n",
            "Requirement already satisfied: onnx>=1.6.0 in /usr/local/lib/python3.10/dist-packages (from onnx2pytorch) (1.15.0)\n",
            "Requirement already satisfied: torchvision>=0.9.0 in /usr/local/lib/python3.10/dist-packages (from onnx2pytorch) (0.16.0+cu121)\n",
            "Requirement already satisfied: numpy in /usr/local/lib/python3.10/dist-packages (from onnx>=1.6.0->onnx2pytorch) (1.25.2)\n",
            "Requirement already satisfied: protobuf>=3.20.2 in /usr/local/lib/python3.10/dist-packages (from onnx>=1.6.0->onnx2pytorch) (3.20.3)\n",
            "Requirement already satisfied: filelock in /usr/local/lib/python3.10/dist-packages (from torch>=1.4.0->onnx2pytorch) (3.13.1)\n",
            "Requirement already satisfied: typing-extensions in /usr/local/lib/python3.10/dist-packages (from torch>=1.4.0->onnx2pytorch) (4.9.0)\n",
            "Requirement already satisfied: sympy in /usr/local/lib/python3.10/dist-packages (from torch>=1.4.0->onnx2pytorch) (1.12)\n",
            "Requirement already satisfied: networkx in /usr/local/lib/python3.10/dist-packages (from torch>=1.4.0->onnx2pytorch) (3.2.1)\n",
            "Requirement already satisfied: jinja2 in /usr/local/lib/python3.10/dist-packages (from torch>=1.4.0->onnx2pytorch) (3.1.3)\n",
            "Requirement already satisfied: fsspec in /usr/local/lib/python3.10/dist-packages (from torch>=1.4.0->onnx2pytorch) (2023.6.0)\n",
            "Requirement already satisfied: triton==2.1.0 in /usr/local/lib/python3.10/dist-packages (from torch>=1.4.0->onnx2pytorch) (2.1.0)\n",
            "Requirement already satisfied: requests in /usr/local/lib/python3.10/dist-packages (from torchvision>=0.9.0->onnx2pytorch) (2.31.0)\n",
            "Requirement already satisfied: pillow!=8.3.*,>=5.3.0 in /usr/local/lib/python3.10/dist-packages (from torchvision>=0.9.0->onnx2pytorch) (9.4.0)\n",
            "Requirement already satisfied: MarkupSafe>=2.0 in /usr/local/lib/python3.10/dist-packages (from jinja2->torch>=1.4.0->onnx2pytorch) (2.1.5)\n",
            "Requirement already satisfied: charset-normalizer<4,>=2 in /usr/local/lib/python3.10/dist-packages (from requests->torchvision>=0.9.0->onnx2pytorch) (3.3.2)\n",
            "Requirement already satisfied: idna<4,>=2.5 in /usr/local/lib/python3.10/dist-packages (from requests->torchvision>=0.9.0->onnx2pytorch) (3.6)\n",
            "Requirement already satisfied: urllib3<3,>=1.21.1 in /usr/local/lib/python3.10/dist-packages (from requests->torchvision>=0.9.0->onnx2pytorch) (2.0.7)\n",
            "Requirement already satisfied: certifi>=2017.4.17 in /usr/local/lib/python3.10/dist-packages (from requests->torchvision>=0.9.0->onnx2pytorch) (2024.2.2)\n",
            "Requirement already satisfied: mpmath>=0.19 in /usr/local/lib/python3.10/dist-packages (from sympy->torch>=1.4.0->onnx2pytorch) (1.3.0)\n",
            "Installing collected packages: onnx2pytorch\n",
            "Successfully installed onnx2pytorch-0.4.1\n",
            "Collecting maraboupy\n",
            "  Downloading maraboupy-1.0.0-cp310-cp310-manylinux_2_17_x86_64.manylinux2014_x86_64.whl (1.4 MB)\n",
            "\u001b[2K     \u001b[90m━━━━━━━━━━━━━━━━━━━━━━━━━━━━━━━━━━━━━━━━\u001b[0m \u001b[32m1.4/1.4 MB\u001b[0m \u001b[31m16.7 MB/s\u001b[0m eta \u001b[36m0:00:00\u001b[0m\n",
            "\u001b[?25hInstalling collected packages: maraboupy\n",
            "Successfully installed maraboupy-1.0.0\n"
          ]
        }
      ],
      "source": [
        "!pip install onnx\n",
        "!pip install onnxruntime\n",
        "!pip install onnx2pytorch\n",
        "!pip install maraboupy"
      ]
    },
    {
      "cell_type": "code",
      "source": [
        "# data=iris.data\n",
        "# data\n",
        "# X_train\n",
        "#labels=iris.target #target_names': array(['setosa', 'versicolor', 'virginica'], dtype='<U10' - sepal length in cm\\n        - sepal width in cm\\n        - petal length in cm\\n        - petal width in cm\\n"
      ],
      "metadata": {
        "id": "82fo7FO0v9R_"
      },
      "execution_count": null,
      "outputs": []
    },
    {
      "cell_type": "code",
      "source": [
        "import torch\n",
        "import torch.nn as nn\n",
        "import torch.optim as optim\n",
        "from sklearn.datasets import load_iris\n",
        "from sklearn.model_selection import train_test_split\n",
        "from sklearn.preprocessing import StandardScaler\n",
        "from torch.utils.data import DataLoader, TensorDataset\n",
        "import numpy as np\n",
        "\n",
        "\n",
        "# Load the Iris dataset\n",
        "data = load_iris()\n",
        "X, y = data.data, data.target\n",
        "\n",
        "# Standardize features\n",
        "scaler = StandardScaler()\n",
        "X_scaled = scaler.fit_transform(X)\n",
        "\n",
        "# Split the data into training and test sets\n",
        "X_train, X_test, y_train, y_test = train_test_split(X_scaled, y, test_size=0.2, random_state=42)\n",
        "\n",
        "# Convert to PyTorch tensors\n",
        "X_train_tensor = torch.tensor(X_train, dtype=torch.float32)\n",
        "y_train_tensor = torch.tensor(y_train, dtype=torch.long)\n",
        "X_test_tensor = torch.tensor(X_test, dtype=torch.float32)\n",
        "y_test_tensor = torch.tensor(y_test, dtype=torch.long)\n",
        "\n",
        "# Create DataLoader\n",
        "train_dataset = TensorDataset(X_train_tensor, y_train_tensor)\n",
        "train_loader = DataLoader(train_dataset, batch_size=16, shuffle=True)\n",
        "\n",
        "# # Define the neural network architecture\n",
        "# class IrisNet(nn.Module):\n",
        "#     def __init__(self):\n",
        "#         super(IrisNet, self).__init__()\n",
        "#         self.fc1 = nn.Linear(4, 10)  # Input layer to hidden layer\n",
        "#         self.relu1 = nn.ReLU()\n",
        "#         self.fc2 = nn.Linear(10, 10) # Hidden layer to hidden layer\n",
        "#         self.relu2 = nn.ReLU()\n",
        "#         self.fc3 = nn.Linear(10, 3)  # Hidden layer to output layer\n",
        "\n",
        "#     def forward(self, x):\n",
        "#         x = self.fc1(x)\n",
        "#         x = self.relu1(x)\n",
        "#         x = self.fc2(x)\n",
        "#         x = self.relu2(x)\n",
        "#         x = self.fc3(x)\n",
        "#         return x\n",
        "\n",
        "# # Initialize the network\n",
        "# model = IrisNet()\n",
        "\n",
        "# # Loss and optimizer\n",
        "# criterion = nn.CrossEntropyLoss()\n",
        "# optimizer = optim.Adam(model.parameters(), lr=0.001)\n",
        "\n",
        "# # Training loop\n",
        "# epochs = 100\n",
        "# for epoch in range(epochs):\n",
        "#     for inputs, labels in train_loader:\n",
        "#         optimizer.zero_grad()\n",
        "#         outputs = model(inputs)\n",
        "#         loss = criterion(outputs, labels)\n",
        "#         loss.backward()\n",
        "#         optimizer.step()\n",
        "\n",
        "#     # Print loss every 10 epochs\n",
        "#     if epoch % 10 == 9:\n",
        "#         print(f'Epoch {epoch+1}, Loss: {loss.item()}')\n",
        "\n",
        "# Check if the model trains without error up to this point\n",
        "# \"Model trained successfully!\"\n"
      ],
      "metadata": {
        "id": "M98VjGpkwzeN"
      },
      "execution_count": 2,
      "outputs": []
    },
    {
      "cell_type": "code",
      "source": [
        "import onnx\n",
        "from onnx2pytorch import ConvertModel\n",
        "\n",
        "\n",
        "onnx_model = onnx.load(\"iris_model.onnx\")\n",
        "model = ConvertModel(onnx_model)\n",
        "\n",
        "activations = {}\n",
        "\n",
        "def get_activation(name):\n",
        "    def hook(model, input, output):\n",
        "        activations[name] = output.detach()\n",
        "    return hook\n",
        "\n",
        "i=1\n",
        "# Assuming the ReLU layers are named similarly to your PyTorch model, you can add hooks like this\n",
        "for name, layer in model.named_modules():\n",
        "    if isinstance(layer, torch.nn.ReLU):\n",
        "        # Register the hook\n",
        "        layer.register_forward_hook(get_activation(f'relu{i}'))\n",
        "        i=i+1\n",
        "\n",
        "# Now, when you run a forward pass, the hooks will store the ReLU activations\n",
        "with torch.no_grad():\n",
        "    output = model(X_train_tensor[0].unsqueeze(0))\n",
        "\n",
        "# Check the captured activations\n",
        "activations\n",
        "# Remove hooks (to clean up)\n",
        "# hook1.remove()\n",
        "# hook2.remove()"
      ],
      "metadata": {
        "colab": {
          "base_uri": "https://localhost:8080/"
        },
        "id": "eqDgTtJARaCI",
        "outputId": "d640b8c5-49e5-4171-84d7-c94558c9c2aa"
      },
      "execution_count": 3,
      "outputs": [
        {
          "output_type": "stream",
          "name": "stderr",
          "text": [
            "/usr/local/lib/python3.10/dist-packages/onnx2pytorch/convert/layer.py:30: UserWarning: The given NumPy array is not writable, and PyTorch does not support non-writable tensors. This means writing to this tensor will result in undefined behavior. You may want to copy the array to protect its data or make it writable before converting it to a tensor. This type of warning will be suppressed for the rest of this program. (Triggered internally at ../torch/csrc/utils/tensor_numpy.cpp:206.)\n",
            "  layer.weight.data = torch.from_numpy(numpy_helper.to_array(weight))\n"
          ]
        },
        {
          "output_type": "execute_result",
          "data": {
            "text/plain": [
              "{'relu1': tensor([[0.0000, 0.0000, 0.4279, 0.8322, 0.0000, 2.8226, 0.0000, 2.9351, 0.0000,\n",
              "          0.0000]]),\n",
              " 'relu2': tensor([[0.0000, 2.6728, 0.0000, 0.0000, 4.4901, 0.0000, 3.7417, 3.7264, 0.4441,\n",
              "          0.0000]])}"
            ]
          },
          "metadata": {},
          "execution_count": 3
        }
      ]
    },
    {
      "cell_type": "code",
      "source": [
        "#accuracy:\n",
        "i=0\n",
        "with torch.no_grad():\n",
        "  for inputs,label in zip(X_test_tensor, y_test_tensor):\n",
        "          outputs = model(inputs.unsqueeze(0))\n",
        "          #print(outputs)\n",
        "          pred=outputs.argmax() #output not normalized\n",
        "          if pred==label:\n",
        "            i=i+1\n",
        "print(f'{i}/{len(X_test_tensor)}')\n",
        "#model(X_train_tensor[0].unsqueeze(0))\n",
        "\n",
        "# onnx_file_path = \"iris_model.onnx\"\n",
        "# torch.onnx.export(model, torch.randn(1, 4), onnx_file_path, verbose=False)"
      ],
      "metadata": {
        "colab": {
          "base_uri": "https://localhost:8080/"
        },
        "id": "8ZaXSAFSh5Nu",
        "outputId": "c21665b4-c346-44af-fe6b-83d19116f9a8"
      },
      "execution_count": 4,
      "outputs": [
        {
          "output_type": "stream",
          "name": "stdout",
          "text": [
            "30/30\n"
          ]
        }
      ]
    },
    {
      "cell_type": "markdown",
      "source": [
        "find states:"
      ],
      "metadata": {
        "id": "n8IRdRkQ-pOl"
      }
    },
    {
      "cell_type": "code",
      "source": [
        "# states={}\n",
        "# for i in range(3):\n",
        "#   states[i]={}\n",
        "\n",
        "# with torch.no_grad():\n",
        "#   for neuron in range(20):\n",
        "#     for idx, (inputs, labels) in enumerate(train_loader):\n",
        "#       for i,t in zip(inputs,labels):\n",
        "#         t=t.item()\n",
        "#         outputs = model(i.unsqueeze(0))\n",
        "#         out=activations[f'relu{(neuron//10)+1}'][:,neuron%10].tolist()[0]\n",
        "#         if not neuron in states[t]:\n",
        "#           states[t][neuron]=[]\n",
        "#         states[t][neuron].append(out)\n",
        "\n",
        "# with open(\"relu_states\", \"w\") as fp:\n",
        "#   json.dump(states, fp)\n",
        "#states\n",
        "# json\n",
        "# label:{{neuron: states}, }"
      ],
      "metadata": {
        "id": "QkaVL6lNSVwH"
      },
      "execution_count": null,
      "outputs": []
    },
    {
      "cell_type": "markdown",
      "source": [
        "initialize marabou"
      ],
      "metadata": {
        "id": "zeGQse17-vrY"
      }
    },
    {
      "cell_type": "code",
      "source": [
        "from maraboupy import Marabou, MarabouCore, MarabouUtils\n",
        "import json\n",
        "from typing import Tuple, List\n",
        "import logging\n",
        "import pandas\n",
        "\n",
        "def init_network():\n",
        "  network_path = 'iris_model.onnx'\n",
        "  network = Marabou.read_onnx(network_path)\n",
        "  return network\n",
        "\n",
        "with open(\"relu_states\", \"r\") as fp:\n",
        "    states = json.load(fp)\n",
        "\n",
        "\n",
        "EPSILON = 0.5\n",
        "PATTERN_PATH = 'relu_states'\n",
        "MAX_TIME = 300 #in seconds\n",
        "M_OPTIONS: MarabouCore.Options = Marabou.createOptions(verbosity=0, numWorkers=10, timeoutInSeconds=MAX_TIME)\n",
        "\n",
        "def convert_keys_to_int(x):\n",
        "    if isinstance(x, dict):\n",
        "        return {int(k) if k.isdigit() else k: convert_keys_to_int(v) for k, v in x.items()}\n",
        "    return x\n",
        "\n",
        "with open(PATTERN_PATH, \"r\") as f:\n",
        "  STABLE_PATTERNS = json.load(f)\n",
        "  STABLE_PATTERNS=convert_keys_to_int(STABLE_PATTERNS)\n",
        "loc = 0.5\n",
        "radus = 0.5\n",
        "non_restricted_dim = []"
      ],
      "metadata": {
        "id": "RZmiALnbf9Hd",
        "colab": {
          "base_uri": "https://localhost:8080/"
        },
        "outputId": "121f4142-bb60-42ed-cec0-f82d976bfa8b"
      },
      "execution_count": 5,
      "outputs": [
        {
          "output_type": "stream",
          "name": "stderr",
          "text": [
            "WARNING:tensorflow:From /usr/local/lib/python3.10/dist-packages/tensorflow/python/compat/v2_compat.py:108: disable_resource_variables (from tensorflow.python.ops.variable_scope) is deprecated and will be removed in a future version.\n",
            "Instructions for updating:\n",
            "non-resource variables are not supported in the long term\n"
          ]
        }
      ]
    },
    {
      "cell_type": "code",
      "source": [
        "label=0\n",
        "neuron=13\n",
        "states#[f'{label}'][f'{neuron}']"
      ],
      "metadata": {
        "id": "Sf75_sjrlIxZ"
      },
      "execution_count": null,
      "outputs": []
    },
    {
      "cell_type": "code",
      "source": [
        "#start with all relu，删减直到不能verify？"
      ],
      "metadata": {
        "colab": {
          "base_uri": "https://localhost:8080/"
        },
        "id": "U66qhU6wLW55",
        "outputId": "0fd59305-66f5-456c-e3d2-5db3bc0398b1"
      },
      "execution_count": null,
      "outputs": [
        {
          "output_type": "stream",
          "name": "stdout",
          "text": [
            "Requirement already satisfied: maraboupy in /usr/local/lib/python3.10/dist-packages (1.0.0)\n"
          ]
        }
      ]
    },
    {
      "cell_type": "code",
      "source": [
        "network=init_network()\n",
        "network.outputVars #4,5,6\n",
        "network.inputVars #0,1,2,3\n",
        "network.reluList #(i+10) for i in range(7,37)\n",
        "network.numVars #47\n",
        "offset=7"
      ],
      "metadata": {
        "id": "9hiBON9ZMEL-"
      },
      "execution_count": 6,
      "outputs": []
    },
    {
      "cell_type": "code",
      "source": [
        "# for k,v in STABLE_PATTERNS[0].items():\n",
        "#   print(k)\n",
        "for label in STABLE_PATTERNS:\n",
        "  print(label)"
      ],
      "metadata": {
        "colab": {
          "base_uri": "https://localhost:8080/"
        },
        "id": "6i9vizIqo4EV",
        "outputId": "1da3c7a1-1972-4798-9d13-2968949f9275"
      },
      "execution_count": 7,
      "outputs": [
        {
          "output_type": "stream",
          "name": "stdout",
          "text": [
            "0\n",
            "1\n",
            "2\n"
          ]
        }
      ]
    },
    {
      "cell_type": "code",
      "source": [
        "network.lowerBounds\n",
        "exit_code, vals, stats = network.solve(options=M_OPTIONS)"
      ],
      "metadata": {
        "colab": {
          "base_uri": "https://localhost:8080/"
        },
        "id": "iAAomWONgTYJ",
        "outputId": "8d423576-a352-40e1-c8e8-3f8455fa9015"
      },
      "execution_count": 8,
      "outputs": [
        {
          "output_type": "stream",
          "name": "stdout",
          "text": [
            "ERROR\n"
          ]
        }
      ]
    },
    {
      "cell_type": "code",
      "source": [
        "network=init_network()\n",
        "# for i in range(4):\n",
        "#   network.setLowerBound(i, 0)\n",
        "#   network.setUpperBound(i, 1)\n",
        "# constraint = MarabouUtils.Equation(MarabouCore.Equation.LE)\n",
        "# constraint.addAddend(1, 4)\n",
        "# constraint.setScalar(0)\n",
        "# network.addEquation(constraint)\n",
        "#exit_code, vals, stats = network.solve(options=M_OPTIONS)"
      ],
      "metadata": {
        "id": "8AgJKW712ek2"
      },
      "execution_count": null,
      "outputs": []
    },
    {
      "cell_type": "code",
      "source": [
        "def add_relu_constraints(network: Marabou.MarabouNetworkNNet, label_states)->Marabou.MarabouNetworkNNet:\n",
        "    \"\"\"\n",
        "    Add stable relus constraints to the Marabou network\n",
        "    \"\"\"\n",
        "    for neuron,values in label_states.items():\n",
        "        layer, idx, marabou_idx = parse_raw_idx(neuron)\n",
        "        print(f'{neuron}: {values}')\n",
        "        if values.count(0) > len(values)*0.5: #len(X_train)*0.5:\n",
        "            constraint = MarabouUtils.Equation(MarabouCore.Equation.LE)\n",
        "            constraint.addAddend(1, marabou_idx)\n",
        "            constraint.setScalar(-0.001)\n",
        "        else:\n",
        "            constraint = MarabouUtils.Equation(MarabouCore.Equation.GE)\n",
        "            constraint.addAddend(1, marabou_idx)\n",
        "            constraint.setScalar(0.001)\n",
        "        network.addEquation(constraint)\n",
        "\n",
        "    return network\n",
        "\n",
        "def parse_raw_idx(raw_idx: int) -> Tuple[int, int, int]:\n",
        "    n_relus = 10\n",
        "    offset = 7\n",
        "    layer = raw_idx // n_relus\n",
        "    idx = raw_idx % n_relus\n",
        "    marabou_idx = 2*n_relus*layer + idx + offset\n",
        "    return layer, idx, marabou_idx\n",
        "\n",
        "\n",
        "# def find_one_assignment(relu_check_list: List[int], relu_val: List[int])->None:\n",
        "#     network = init_network()\n",
        "#     network = add_relu_constraints(network, relu_check_list, relu_val)\n",
        "#     exitCode, vals, stats = network.solve()\n",
        "#     assert(exitCode==\"sat\")\n",
        "#     for idx, r in enumerate(relu_check_list):\n",
        "#         marabou_idx = parse_raw_idx(r)[-1]\n",
        "# #        print(marabou_idx, vals[marabou_idx], relu_val[idx]) command + .\n",
        "\n",
        "def check_pattern(label_states, label: int, other_label: int)->Tuple[str, int]: #relu_check_list: List[int], relu_val: List[int]\n",
        "    \"\"\"\n",
        "    In ACAS, the prediction is the label with smallest value.\n",
        "    So we check that label - other_label < 0 forall input\n",
        "    by finding assignments for label - other_label >=0\n",
        "    \"\"\"\n",
        "    print(\"--------CHECK PATTERN: output_{} is always less than output_{} ? --------\".format(label, other_label))\n",
        "    network = init_network()\n",
        "\n",
        "    network = add_relu_constraints(network, label_states) #previously commented out??\n",
        "    offset = network.outputVars[0][0][0]\n",
        "    for i in range(4):\n",
        "      network.setLowerBound(i, 0)\n",
        "      network.setUpperBound(i, 1)\n",
        "    #add output constraint\n",
        "    constraint = MarabouUtils.Equation(MarabouCore.Equation.GE)\n",
        "    constraint.addAddend(1, other_label+offset)\n",
        "    constraint.addAddend(-1, label+offset)\n",
        "    constraint.setScalar(0.001)\n",
        "    network.addEquation(constraint)\n",
        "\n",
        "\n",
        "    #add additional bounds here\n",
        "    exit_code: str\n",
        "    exit_code, vals, stats = network.solve(options=M_OPTIONS)\n",
        "\n",
        "    running_time:int = stats.getTotalTimeInMicro()\n",
        "    # for idx, r in enumerate(relu_check_list):\n",
        "    #     marabou_idx = parse_raw_idx(r)[-1]\n",
        "        # print(marabou_idx, vals[marabou_idx], relu_val[idx])\n",
        "\n",
        "    # print(\"double check output\")\n",
        "    # for o in network.outputVars[0][0]:\n",
        "    #     print(o, vals[o])\n",
        "    # print(label+offset, vals[label+offset])\n",
        "    # print(other_label+offset, vals[other_label+offset])\n",
        "\n",
        "    # print(\"Running time:{}\".format(running_time))\n",
        "    return exit_code, running_time\n",
        "\n",
        "\n",
        "\n",
        "    # try:\n",
        "    #     exit_code: str\n",
        "    #     exit_code, vals, stats = network.solve(options=M_OPTIONS)\n",
        "    #     running_time:int = stats.getTotalTimeInMicro()\n",
        "    #     for idx, r in enumerate(relu_check_list):\n",
        "    #         marabou_idx = parse_raw_idx(r)[-1]\n",
        "    #         print(marabou_idx, vals[marabou_idx], relu_val[idx])\n",
        "\n",
        "    #     print(\"double check output\")\n",
        "    #     for o in network.outputVars[0][0]:\n",
        "    #         print(o, vals[o])\n",
        "    #     print(label+offset, vals[label+offset])\n",
        "    #     print(other_label+offset, vals[other_label+offset])\n",
        "\n",
        "    #     print(\"Running time:{}\".format(running_time))\n",
        "    #     return exit_code, running_time\n",
        "    # except Exception:\n",
        "    #     if exit_code not in [\"sat\", \"unsat\"]:\n",
        "    #         print(\"THE QUERY CANNOT BE SOLVED\")\n",
        "    #     return exit_code, -1\n",
        "def main():\n",
        "    res = [[-1.]*10 for i in range(10)]\n",
        "    # print(res)\n",
        "    for label in range(3):\n",
        "        print(f\"For label {label}, check if its stable RELU pattern guarantees the output\")\n",
        "        for other_label in range(3):#range(10):\n",
        "            if other_label == int(label):\n",
        "                continue\n",
        "            # relu_check_list = STABLE_PATTERNS[label][\"stable_idx\"]\n",
        "            # relu_val = STABLE_PATTERNS[label][\"val\"]\n",
        "            exit_code, running_time = check_pattern(STABLE_PATTERNS[label], label=int(label), other_label = other_label)\n",
        "            if exit_code==\"sat\":\n",
        "                res[int(label)][other_label] = \"SAT:{}\".format(running_time/10**6)\n",
        "                break\n",
        "            elif exit_code==\"unsat\":\n",
        "                res[int(label)][other_label] = \"UNS:{}\".format(running_time/10**6)\n",
        "            else:\n",
        "                res[int(label)][other_label] = exit_code\n",
        "\n",
        "    res = pandas.DataFrame(res)\n",
        "    print(res)\n",
        "\n",
        "main()\n"
      ],
      "metadata": {
        "id": "0Sgzg-rxS2TO",
        "colab": {
          "base_uri": "https://localhost:8080/"
        },
        "outputId": "e60888bd-100a-49c5-bce2-c0210f6b151f"
      },
      "execution_count": null,
      "outputs": [
        {
          "output_type": "stream",
          "name": "stdout",
          "text": [
            "For label 1, check if its stable RELU pattern guarantees the output\n",
            "--------CHECK PATTERN: output_1 is always less than output_2 ? --------\n",
            "ERROR\n",
            "     0    1      2    3    4    5    6    7    8    9\n",
            "0 -1.0 -1.0   -1.0 -1.0 -1.0 -1.0 -1.0 -1.0 -1.0 -1.0\n",
            "1 -1.0 -1.0  ERROR -1.0 -1.0 -1.0 -1.0 -1.0 -1.0 -1.0\n",
            "2 -1.0 -1.0   -1.0 -1.0 -1.0 -1.0 -1.0 -1.0 -1.0 -1.0\n",
            "3 -1.0 -1.0   -1.0 -1.0 -1.0 -1.0 -1.0 -1.0 -1.0 -1.0\n",
            "4 -1.0 -1.0   -1.0 -1.0 -1.0 -1.0 -1.0 -1.0 -1.0 -1.0\n",
            "5 -1.0 -1.0   -1.0 -1.0 -1.0 -1.0 -1.0 -1.0 -1.0 -1.0\n",
            "6 -1.0 -1.0   -1.0 -1.0 -1.0 -1.0 -1.0 -1.0 -1.0 -1.0\n",
            "7 -1.0 -1.0   -1.0 -1.0 -1.0 -1.0 -1.0 -1.0 -1.0 -1.0\n",
            "8 -1.0 -1.0   -1.0 -1.0 -1.0 -1.0 -1.0 -1.0 -1.0 -1.0\n",
            "9 -1.0 -1.0   -1.0 -1.0 -1.0 -1.0 -1.0 -1.0 -1.0 -1.0\n"
          ]
        }
      ]
    },
    {
      "cell_type": "markdown",
      "source": [
        "\n",
        "\n",
        "---\n",
        "\n"
      ],
      "metadata": {
        "id": "NgG40QhIS2rs"
      }
    },
    {
      "cell_type": "code",
      "source": [
        "from collections import OrderedDict\n",
        "\n",
        "model = nn.Sequential(OrderedDict([\n",
        "          ('lin1', nn.Linear(2, 4)),\n",
        "          ('relu1', nn.ReLU()),\n",
        "          ('lin2', nn.Linear(4, 2)),\n",
        "          ('relu2', nn.ReLU()),\n",
        "          ('lin3', nn.Linear(2, 1)),\n",
        "           ('sigmoid1',nn.Sigmoid())\n",
        "          # ('relu3', nn.ReLU()) # this will make the gradient always zero for some initializations\n",
        "        ]))\n",
        "\n",
        "for name, param in model.named_parameters():\n",
        "    if param.requires_grad:\n",
        "        print(name, param.data)"
      ],
      "metadata": {
        "colab": {
          "base_uri": "https://localhost:8080/"
        },
        "id": "Cu5sLx1rFlC5",
        "outputId": "75266370-ecab-48ae-ab4e-8a13d3e2d649"
      },
      "execution_count": null,
      "outputs": [
        {
          "output_type": "stream",
          "name": "stdout",
          "text": [
            "lin1.weight tensor([[ 0.0055,  0.4843],\n",
            "        [ 0.7000, -0.0224],\n",
            "        [ 0.2257, -0.3779],\n",
            "        [-0.3030, -0.6275]])\n",
            "lin1.bias tensor([ 0.6780,  0.5154, -0.2446, -0.3855])\n",
            "lin2.weight tensor([[ 0.2899,  0.1738, -0.3707, -0.0071],\n",
            "        [ 0.1005,  0.4264,  0.0765, -0.0099]])\n",
            "lin2.bias tensor([-0.2550, -0.1218])\n",
            "lin3.weight tensor([[-0.3563, -0.6455]])\n",
            "lin3.bias tensor([0.4740])\n"
          ]
        }
      ]
    },
    {
      "cell_type": "code",
      "source": [
        "X = np.array([[-0.60494626,  0.39463717],\n",
        "       [-0.30378544,  0.35994518],\n",
        "       [-0.10199207,  0.8077354 ],\n",
        "       [-0.6891583 ,  0.56531763],\n",
        "       [-0.82298213,  0.12062865],\n",
        "       [-0.7219664 ,  0.36234102],\n",
        "       [-0.7760751 ,  0.44770154],\n",
        "       [-0.65878356,  0.02599421],\n",
        "       [-0.44636518,  0.05483197],\n",
        "       [-0.12357683,  0.67089474],\n",
        "       [ 0.59597784, -0.6578017 ],\n",
        "       [ 1.052702  ,  0.03756183],\n",
        "       [ 0.8736961 , -0.4984176 ],\n",
        "       [ 0.53515655, -0.71511005],\n",
        "       [ 0.78909314, -0.39306254],\n",
        "       [ 0.7054007 , -0.4269686 ],\n",
        "       [ 0.47644103, -0.65322984],\n",
        "       [ 0.24000564, -1.0623405 ],\n",
        "       [ 0.39430314, -0.70325773],\n",
        "       [ 0.21796265, -1.16941   ]], dtype=np.float32)\n",
        "\n",
        "\n",
        "\n",
        "Y_ = [0 for i in range(10)] + [1 for i in range(10)]\n",
        "\n",
        "Y = np.array(Y_, dtype=np.float32)\n",
        "# show the plot\n",
        "for i in range(len(X)):\n",
        "    x,y = X[i]\n",
        "    label = Y[i]\n",
        "    if label > 0.5:\n",
        "        plt.plot(x, y, 'ro')\n",
        "    else:\n",
        "        plt.plot(x, y, 'go')"
      ],
      "metadata": {
        "colab": {
          "base_uri": "https://localhost:8080/",
          "height": 430
        },
        "id": "E-7x-NvoFqCG",
        "outputId": "9137bfda-ab9e-47fe-da71-14de1dafc436"
      },
      "execution_count": null,
      "outputs": [
        {
          "output_type": "display_data",
          "data": {
            "text/plain": [
              "<Figure size 640x480 with 1 Axes>"
            ],
            "image/png": "[encoded data removed]"
          },
          "metadata": {}
        }
      ]
    },
    {
      "cell_type": "code",
      "source": [
        "X_train = torch.from_numpy(X)\n",
        "Y_train = torch.from_numpy(Y)\n",
        "target = Y_train[:, None]\n",
        "learning_rate = 0.3\n",
        "params = list(model.parameters())\n",
        "# criterion = nn.MSELoss()\n",
        "criterion = nn.BCELoss()\n",
        "\n",
        "\n",
        "for i in range(100):\n",
        "    model.zero_grad()\n",
        "\n",
        "    Y_tmp = model(X_train)\n",
        "    loss = criterion(Y_tmp, target)\n",
        "    print(f'i = {i}, loss = {loss}')\n",
        "\n",
        "    loss.backward()\n",
        "\n",
        "    # update the gradient\n",
        "    for f in params:\n",
        "        f.data.sub_(f.grad.data * learning_rate)\n",
        "\n",
        "activation = {}\n",
        "def getActivation(name):\n",
        "    # the hook signature\n",
        "    def hook(model, input, output):\n",
        "        activation[name] = output.detach() > 0\n",
        "    return hook\n",
        "\n",
        "model.relu1.register_forward_hook(getActivation('relu1'))\n",
        "model.relu2.register_forward_hook(getActivation('relu2'))"
      ],
      "metadata": {
        "id": "uD9aHXN0FtGt"
      },
      "execution_count": null,
      "outputs": []
    },
    {
      "cell_type": "code",
      "source": [
        "Y_tmp = model(X_train)\n",
        "\n",
        "\n",
        "fig = plt.figure(figsize=(6, 6))\n",
        "for i in range(len(X)):\n",
        "    x,y = X[i]\n",
        "    pred = Y_tmp[i][0]\n",
        "    if pred > 0.5:\n",
        "        plt.plot(x, y, 'ro')\n",
        "    else:\n",
        "        plt.plot(x, y, 'go')\n",
        "\n",
        "plt.plot(X[9][0], X[9][1], 'go', label=\"0\")\n",
        "plt.plot(X[-1][0], X[-1][1], 'ro', label=\"1\")\n",
        "\n",
        "fig.suptitle('Simple data distribution')\n",
        "plt.xlabel('X')\n",
        "plt.ylabel('Y')\n",
        "plt.legend(loc=\"upper left\")\n",
        "plt.ylim(-1.5, 1.5)\n",
        "plt.xlim(-1.5, 1.5)\n",
        "plt.show()"
      ],
      "metadata": {
        "colab": {
          "base_uri": "https://localhost:8080/",
          "height": 602
        },
        "id": "aJNqWEBIFzJ1",
        "outputId": "2006d335-ef03-4d0f-d352-0e21ea1f73e2"
      },
      "execution_count": null,
      "outputs": [
        {
          "output_type": "display_data",
          "data": {
            "text/plain": [
              "<Figure size 600x600 with 1 Axes>"
            ],
            "image/png": "[encoded data removed]"
          },
          "metadata": {}
        }
      ]
    },
    {
      "cell_type": "code",
      "source": [
        "output = model(torch.from_numpy(X[0]))\n",
        "activation['relu1'][0]"
      ],
      "metadata": {
        "colab": {
          "base_uri": "https://localhost:8080/"
        },
        "id": "KCjVMtjXHXY6",
        "outputId": "de2a236f-c690-455b-89ed-35e1a882c37f"
      },
      "execution_count": null,
      "outputs": [
        {
          "output_type": "execute_result",
          "data": {
            "text/plain": [
              "tensor(True)"
            ]
          },
          "metadata": {},
          "execution_count": 11
        }
      ]
    },
    {
      "cell_type": "code",
      "source": [
        "Refinement:\n",
        " For given area, find adversarial example. Refine that region."
      ],
      "metadata": {
        "id": "3ciHIldrGvMb"
      },
      "execution_count": null,
      "outputs": []
    }
  ]
}